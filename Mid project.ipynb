{
 "cells": [
  {
   "cell_type": "code",
   "execution_count": 32,
   "metadata": {},
   "outputs": [],
   "source": [
    "%matplotlib inline\n",
    "\n",
    "import numpy as np\n",
    "import pandas as pd \n",
    "import matplotlib.pyplot as plt\n",
    "import datetime as dt\n",
    "import twstock as ts\n",
    "import time \n",
    "import threading\n",
    "import queue\n",
    "import json\n",
    "from urllib.request import urlopen"
   ]
  },
  {
   "cell_type": "markdown",
   "metadata": {},
   "source": [
    "# 獲取4月個股占大盤比重"
   ]
  },
  {
   "cell_type": "code",
   "execution_count": 33,
   "metadata": {},
   "outputs": [],
   "source": [
    "table=pd.read_html(\"https://histock.tw/stock/taiexproportion.aspx\")\n",
    "smy=pd.concat([table[0],table[1]],axis=0)\n",
    "smy.index=range(1,len(smy)+1)\n",
    "smy=smy.drop('排行',axis=1)"
   ]
  },
  {
   "cell_type": "code",
   "execution_count": 34,
   "metadata": {},
   "outputs": [],
   "source": [
    "smy['昨收']=np.nan\n",
    "smy['現價']=np.nan"
   ]
  },
  {
   "cell_type": "code",
   "execution_count": 35,
   "metadata": {},
   "outputs": [],
   "source": [
    "codelist=list(smy.loc[:,'代號'])"
   ]
  },
  {
   "cell_type": "code",
   "execution_count": 36,
   "metadata": {},
   "outputs": [],
   "source": [
    "smy['市值佔大盤比重']=smy['市值佔大盤比重'].map(lambda x:float(x.strip('%'))) / 100"
   ]
  },
  {
   "cell_type": "code",
   "execution_count": 37,
   "metadata": {},
   "outputs": [
    {
     "data": {
      "text/html": [
       "<div>\n",
       "<style scoped>\n",
       "    .dataframe tbody tr th:only-of-type {\n",
       "        vertical-align: middle;\n",
       "    }\n",
       "\n",
       "    .dataframe tbody tr th {\n",
       "        vertical-align: top;\n",
       "    }\n",
       "\n",
       "    .dataframe thead th {\n",
       "        text-align: right;\n",
       "    }\n",
       "</style>\n",
       "<table border=\"1\" class=\"dataframe\">\n",
       "  <thead>\n",
       "    <tr style=\"text-align: right;\">\n",
       "      <th></th>\n",
       "      <th>代號</th>\n",
       "      <th>名稱</th>\n",
       "      <th>市值佔大盤比重</th>\n",
       "      <th>昨收</th>\n",
       "      <th>現價</th>\n",
       "    </tr>\n",
       "  </thead>\n",
       "  <tbody>\n",
       "    <tr>\n",
       "      <th>1</th>\n",
       "      <td>2330</td>\n",
       "      <td>台積電</td>\n",
       "      <td>0.211929</td>\n",
       "      <td>NaN</td>\n",
       "      <td>NaN</td>\n",
       "    </tr>\n",
       "    <tr>\n",
       "      <th>2</th>\n",
       "      <td>2317</td>\n",
       "      <td>鴻海</td>\n",
       "      <td>0.042131</td>\n",
       "      <td>NaN</td>\n",
       "      <td>NaN</td>\n",
       "    </tr>\n",
       "    <tr>\n",
       "      <th>3</th>\n",
       "      <td>6505</td>\n",
       "      <td>台塑化</td>\n",
       "      <td>0.037738</td>\n",
       "      <td>NaN</td>\n",
       "      <td>NaN</td>\n",
       "    </tr>\n",
       "    <tr>\n",
       "      <th>4</th>\n",
       "      <td>2412</td>\n",
       "      <td>中華電</td>\n",
       "      <td>0.029486</td>\n",
       "      <td>NaN</td>\n",
       "      <td>NaN</td>\n",
       "    </tr>\n",
       "    <tr>\n",
       "      <th>5</th>\n",
       "      <td>1301</td>\n",
       "      <td>台塑</td>\n",
       "      <td>0.022606</td>\n",
       "      <td>NaN</td>\n",
       "      <td>NaN</td>\n",
       "    </tr>\n",
       "  </tbody>\n",
       "</table>\n",
       "</div>"
      ],
      "text/plain": [
       "     代號   名稱   市值佔大盤比重  昨收  現價\n",
       "1  2330  台積電  0.211929 NaN NaN\n",
       "2  2317   鴻海  0.042131 NaN NaN\n",
       "3  6505  台塑化  0.037738 NaN NaN\n",
       "4  2412  中華電  0.029486 NaN NaN\n",
       "5  1301   台塑  0.022606 NaN NaN"
      ]
     },
     "execution_count": 37,
     "metadata": {},
     "output_type": "execute_result"
    }
   ],
   "source": [
    "smy.head()"
   ]
  },
  {
   "cell_type": "markdown",
   "metadata": {},
   "source": [
    "## 從yahoo網頁獲取(即時)現價"
   ]
  },
  {
   "cell_type": "code",
   "execution_count": 7,
   "metadata": {},
   "outputs": [],
   "source": [
    "def getnp(i):\n",
    "    tab=pd.read_html(f\"https://tw.stock.yahoo.com/q/q?s={i}\",encoding = \"big5\")\n",
    "    AD=tab[1][0][0].split()\n",
    "    smy.loc[smy.loc[smy.代號==float(i)].index,'現價']=float(AD[14])"
   ]
  },
  {
   "cell_type": "code",
   "execution_count": 8,
   "metadata": {},
   "outputs": [
    {
     "name": "stdout",
     "output_type": "stream",
     "text": [
      "前 10 間公司所需時間 5.26966128375146 秒\n",
      "前 20 間公司所需時間 11.321755327001808 秒\n",
      "前 30 間公司所需時間 16.749063316872075 秒\n",
      "前 40 間公司所需時間 23.284519836386764 秒\n",
      "前 50 間公司所需時間 29.28380318836629 秒\n"
     ]
    }
   ],
   "source": [
    "smy['現價']=np.nan\n",
    "n=0\n",
    "t0=time.clock()\n",
    "while n<50:\n",
    "    for i in codelist[n:n+10]:\n",
    "        try:\n",
    "            getnp(i)\n",
    "        except:\n",
    "            pass\n",
    "    n+=10\n",
    "    print('前',n,'間公司所需時間',time.clock()-t0,'秒')\n"
   ]
  },
  {
   "cell_type": "code",
   "execution_count": 9,
   "metadata": {},
   "outputs": [],
   "source": [
    "tab=pd.read_html(\"https://tw.stock.yahoo.com/q/q?s=2330\",encoding = \"big5\")"
   ]
  },
  {
   "cell_type": "code",
   "execution_count": 10,
   "metadata": {},
   "outputs": [
    {
     "data": {
      "text/plain": [
       "'261.5'"
      ]
     },
     "execution_count": 10,
     "metadata": {},
     "output_type": "execute_result"
    }
   ],
   "source": [
    "AD=tab[1][0][0].split()\n",
    "AD[14]"
   ]
  },
  {
   "cell_type": "code",
   "execution_count": 11,
   "metadata": {},
   "outputs": [],
   "source": [
    "AD=tab[1][0][0].split()\n",
    "AD[12]=AD[12][:-6]"
   ]
  },
  {
   "cell_type": "code",
   "execution_count": 12,
   "metadata": {},
   "outputs": [],
   "source": [
    "col_name=AD[:11]"
   ]
  },
  {
   "cell_type": "code",
   "execution_count": 13,
   "metadata": {},
   "outputs": [],
   "source": [
    "da_num=AD[12:23]"
   ]
  },
  {
   "cell_type": "code",
   "execution_count": 14,
   "metadata": {},
   "outputs": [],
   "source": [
    "df=pd.DataFrame(columns=col_name)"
   ]
  },
  {
   "cell_type": "code",
   "execution_count": 30,
   "metadata": {},
   "outputs": [],
   "source": [
    "df.loc['data']=da_num"
   ]
  },
  {
   "cell_type": "code",
   "execution_count": 31,
   "metadata": {},
   "outputs": [
    {
     "data": {
      "text/html": [
       "<div>\n",
       "<style scoped>\n",
       "    .dataframe tbody tr th:only-of-type {\n",
       "        vertical-align: middle;\n",
       "    }\n",
       "\n",
       "    .dataframe tbody tr th {\n",
       "        vertical-align: top;\n",
       "    }\n",
       "\n",
       "    .dataframe thead th {\n",
       "        text-align: right;\n",
       "    }\n",
       "</style>\n",
       "<table border=\"1\" class=\"dataframe\">\n",
       "  <thead>\n",
       "    <tr style=\"text-align: right;\">\n",
       "      <th></th>\n",
       "      <th>股票代號</th>\n",
       "      <th>時間</th>\n",
       "      <th>成交</th>\n",
       "      <th>買進</th>\n",
       "      <th>賣出</th>\n",
       "      <th>漲跌</th>\n",
       "      <th>張數</th>\n",
       "      <th>昨收</th>\n",
       "      <th>開盤</th>\n",
       "      <th>最高</th>\n",
       "      <th>最低</th>\n",
       "    </tr>\n",
       "  </thead>\n",
       "  <tbody>\n",
       "    <tr>\n",
       "      <th>data</th>\n",
       "      <td>2330台積電</td>\n",
       "      <td>14:30</td>\n",
       "      <td>261.5</td>\n",
       "      <td>261.0</td>\n",
       "      <td>261.5</td>\n",
       "      <td>△4.5</td>\n",
       "      <td>37,796</td>\n",
       "      <td>257.0</td>\n",
       "      <td>260.0</td>\n",
       "      <td>263.0</td>\n",
       "      <td>259.5</td>\n",
       "    </tr>\n",
       "  </tbody>\n",
       "</table>\n",
       "</div>"
      ],
      "text/plain": [
       "         股票代號     時間     成交     買進     賣出    漲跌      張數     昨收     開盤     最高  \\\n",
       "data  2330台積電  14:30  261.5  261.0  261.5  △4.5  37,796  257.0  260.0  263.0   \n",
       "\n",
       "         最低  \n",
       "data  259.5  "
      ]
     },
     "execution_count": 31,
     "metadata": {},
     "output_type": "execute_result"
    }
   ],
   "source": [
    "df"
   ]
  },
  {
   "cell_type": "markdown",
   "metadata": {},
   "source": [
    "## 利用Market Information System的url與多線程  獲取個股昨日收盤價(昨收)"
   ]
  },
  {
   "cell_type": "code",
   "execution_count": 38,
   "metadata": {},
   "outputs": [],
   "source": [
    "def run2(self):\n",
    "    while self.qsize() > 0:\n",
    "        i = self.get()\n",
    "        if self.qsize()%100==0:\n",
    "            print(f\"剩下{self.qsize()}筆資料\")\n",
    "        try:\n",
    "#            t0=time.clock()\n",
    "            query_url = f\"http://mis.twse.com.tw/stock/api/getStockInfo.jsp?ex_ch=tse_{i}.tw&delay=0\"\n",
    "            data = json.loads(urlopen(query_url).read())\n",
    "            smy.loc[smy.loc[smy.代號==float(i)].index,'昨收']=data['msgArray'][0]['y']\n",
    "#            print(f'找{i}的昨收價花',time.clock()-t0,'秒')\n",
    "        except:\n",
    "            pass"
   ]
  },
  {
   "cell_type": "code",
   "execution_count": 39,
   "metadata": {
    "scrolled": true
   },
   "outputs": [
    {
     "name": "stdout",
     "output_type": "stream",
     "text": [
      "剩下900筆資料\n",
      "剩下800筆資料\n",
      "剩下700筆資料\n",
      "剩下600筆資料\n",
      "剩下500筆資料\n",
      "剩下400筆資料\n",
      "剩下300筆資料\n",
      "剩下200筆資料\n",
      "剩下100筆資料\n",
      "剩下0筆資料\n",
      "總共花 68.59338607127756 秒\n",
      "平均花 0.07554337673048189 秒\n"
     ]
    }
   ],
   "source": [
    "my_queue = queue.Queue()\n",
    "smy['現價']=np.nan\n",
    "for i in codelist:\n",
    "      my_queue.put(i)\n",
    "t = []\n",
    "t00=time.clock()\n",
    "le=my_queue.qsize()\n",
    "for i in range(5):\n",
    "    t.append(threading.Thread(target = run2(my_queue)))\n",
    "    t[i].start()\n",
    "for i in range(5):    \n",
    "    t[i].join()\n",
    "tt=time.clock()-t00\n",
    "print(f'總共花',tt,'秒')\n",
    "print(f'平均花',tt/le,'秒')"
   ]
  },
  {
   "cell_type": "markdown",
   "metadata": {},
   "source": [
    "## 利用twstock.realtime.get('代碼') 與多線程  獲取個股現價"
   ]
  },
  {
   "cell_type": "code",
   "execution_count": 40,
   "metadata": {},
   "outputs": [
    {
     "data": {
      "text/plain": [
       "5"
      ]
     },
     "execution_count": 40,
     "metadata": {},
     "output_type": "execute_result"
    }
   ],
   "source": [
    "threading.active_count()"
   ]
  },
  {
   "cell_type": "code",
   "execution_count": 41,
   "metadata": {},
   "outputs": [],
   "source": [
    "def run(self):\n",
    "    while self.qsize() > 0:\n",
    "        i = self.get()\n",
    "        if self.qsize()%100==0:\n",
    "            print(f\"剩下{self.qsize()}筆資料\")\n",
    "        try:\n",
    "#            t0=time.clock()\n",
    "            stock=ts.realtime.get(f'{i}')\n",
    "            stocknp=stock['realtime']['latest_trade_price']\n",
    "            smy.loc[smy.loc[smy.代號==float(i)].index,'現價']=stocknp\n",
    "#            print(f'找{i}的現價花',time.clock()-t0,'秒')\n",
    "        except:\n",
    "            pass"
   ]
  },
  {
   "cell_type": "code",
   "execution_count": 42,
   "metadata": {
    "scrolled": true
   },
   "outputs": [
    {
     "name": "stdout",
     "output_type": "stream",
     "text": [
      "剩下900筆資料\n",
      "剩下800筆資料\n",
      "剩下700筆資料\n",
      "剩下600筆資料\n",
      "剩下500筆資料\n",
      "剩下400筆資料\n",
      "剩下300筆資料\n",
      "剩下200筆資料\n",
      "剩下100筆資料\n",
      "剩下0筆資料\n",
      "總共花 151.94035283398807 秒\n",
      "平均花 0.16733519034580185 秒\n"
     ]
    }
   ],
   "source": [
    "my_queue = queue.Queue()\n",
    "smy['現價']=np.nan\n",
    "for i in codelist:\n",
    "      my_queue.put(i)\n",
    "t = []\n",
    "t00=time.clock()\n",
    "le=my_queue.qsize()\n",
    "for i in range(5):\n",
    "    t.append(threading.Thread(target = run(my_queue)))\n",
    "    t[i].start()\n",
    "for i in range(5):    \n",
    "    t[i].join()\n",
    "tt=time.clock()-t00\n",
    "print(f'總共花',tt,'秒')\n",
    "print(f'平均花',tt/le,'秒')"
   ]
  },
  {
   "cell_type": "markdown",
   "metadata": {},
   "source": [
    "## 利用Market Information System的url 獲取加權指數昨收與現價"
   ]
  },
  {
   "cell_type": "code",
   "execution_count": 43,
   "metadata": {},
   "outputs": [],
   "source": [
    "dapen=pd.DataFrame(columns=['yc','now','time'])"
   ]
  },
  {
   "cell_type": "code",
   "execution_count": 52,
   "metadata": {},
   "outputs": [
    {
     "ename": "KeyError",
     "evalue": "'z'",
     "output_type": "error",
     "traceback": [
      "\u001b[1;31m---------------------------------------------------------------------------\u001b[0m",
      "\u001b[1;31mKeyError\u001b[0m                                  Traceback (most recent call last)",
      "\u001b[1;32m<ipython-input-52-9215a7368dd3>\u001b[0m in \u001b[0;36m<module>\u001b[1;34m\u001b[0m\n\u001b[0;32m      2\u001b[0m \u001b[0mdata\u001b[0m \u001b[1;33m=\u001b[0m \u001b[0mjson\u001b[0m\u001b[1;33m.\u001b[0m\u001b[0mloads\u001b[0m\u001b[1;33m(\u001b[0m\u001b[0murlopen\u001b[0m\u001b[1;33m(\u001b[0m\u001b[0mquery_url\u001b[0m\u001b[1;33m)\u001b[0m\u001b[1;33m.\u001b[0m\u001b[0mread\u001b[0m\u001b[1;33m(\u001b[0m\u001b[1;33m)\u001b[0m\u001b[1;33m)\u001b[0m\u001b[1;33m\u001b[0m\u001b[1;33m\u001b[0m\u001b[0m\n\u001b[0;32m      3\u001b[0m \u001b[0mdic\u001b[0m\u001b[1;33m=\u001b[0m\u001b[0mdata\u001b[0m\u001b[1;33m[\u001b[0m\u001b[1;34m'msgArray'\u001b[0m\u001b[1;33m]\u001b[0m\u001b[1;33m[\u001b[0m\u001b[1;36m0\u001b[0m\u001b[1;33m]\u001b[0m\u001b[1;33m\u001b[0m\u001b[1;33m\u001b[0m\u001b[0m\n\u001b[1;32m----> 4\u001b[1;33m \u001b[0mdapen\u001b[0m\u001b[1;33m.\u001b[0m\u001b[0mloc\u001b[0m\u001b[1;33m[\u001b[0m\u001b[1;34m'加權指'\u001b[0m\u001b[1;33m]\u001b[0m\u001b[1;33m=\u001b[0m\u001b[0mfloat\u001b[0m\u001b[1;33m(\u001b[0m\u001b[0mdic\u001b[0m\u001b[1;33m[\u001b[0m\u001b[1;34m'y'\u001b[0m\u001b[1;33m]\u001b[0m\u001b[1;33m)\u001b[0m\u001b[1;33m,\u001b[0m\u001b[0mfloat\u001b[0m\u001b[1;33m(\u001b[0m\u001b[0mdic\u001b[0m\u001b[1;33m[\u001b[0m\u001b[1;34m'z'\u001b[0m\u001b[1;33m]\u001b[0m\u001b[1;33m)\u001b[0m\u001b[1;33m,\u001b[0m\u001b[0mdic\u001b[0m\u001b[1;33m[\u001b[0m\u001b[1;34m't'\u001b[0m\u001b[1;33m]\u001b[0m\u001b[1;33m\u001b[0m\u001b[1;33m\u001b[0m\u001b[0m\n\u001b[0m\u001b[0;32m      5\u001b[0m \u001b[0mdapen\u001b[0m\u001b[1;33m\u001b[0m\u001b[1;33m\u001b[0m\u001b[0m\n",
      "\u001b[1;31mKeyError\u001b[0m: 'z'"
     ]
    }
   ],
   "source": [
    "query_url = \"http://mis.twse.com.tw/stock/api/getStockInfo.jsp?ex_ch=tse_t00.tw&json=1&delay=0&_=1554956220828\"\n",
    "data = json.loads(urlopen(query_url).read())\n",
    "dic=data['msgArray'][0]\n",
    "dapen.loc['加權指']=float(dic['y']),float(dic['z']),dic['t']\n",
    "dapen"
   ]
  },
  {
   "cell_type": "markdown",
   "metadata": {},
   "source": [
    "# 計算即時的加權指數與台指期進行比較"
   ]
  },
  {
   "cell_type": "code",
   "execution_count": 45,
   "metadata": {},
   "outputs": [
    {
     "data": {
      "text/plain": [
       "1.0519509999999987"
      ]
     },
     "execution_count": 45,
     "metadata": {},
     "output_type": "execute_result"
    }
   ],
   "source": [
    "rate_sum=0\n",
    "for i in range(1,len(smy.index)+1):\n",
    "    rate=smy.loc[i,'市值佔大盤比重']\n",
    "    rate_sum=rate_sum+rate\n",
    "rate_sum"
   ]
  },
  {
   "cell_type": "code",
   "execution_count": 46,
   "metadata": {},
   "outputs": [],
   "source": [
    "nr=smy['市值佔大盤比重'].copy()\n",
    "nr=nr/rate_sum"
   ]
  },
  {
   "cell_type": "code",
   "execution_count": 47,
   "metadata": {},
   "outputs": [],
   "source": [
    "findex=0\n",
    "smy=smy.dropna()\n",
    "smy.index=range(1,len(smy.index)+1)\n",
    "for i in range(1,len(smy.index)+1):\n",
    "    findex+=dapen.loc['加權指','yc']*(1+(float(smy.loc[i,'現價'])-float(smy.loc[i,'昨收']))/float(smy.loc[i,'昨收']))*nr[i]"
   ]
  },
  {
   "cell_type": "code",
   "execution_count": 48,
   "metadata": {},
   "outputs": [
    {
     "data": {
      "text/plain": [
       "-70"
      ]
     },
     "execution_count": 48,
     "metadata": {},
     "output_type": "execute_result"
    }
   ],
   "source": [
    "findex-70"
   ]
  },
  {
   "cell_type": "code",
   "execution_count": 49,
   "metadata": {},
   "outputs": [
    {
     "data": {
      "text/html": [
       "<div>\n",
       "<style scoped>\n",
       "    .dataframe tbody tr th:only-of-type {\n",
       "        vertical-align: middle;\n",
       "    }\n",
       "\n",
       "    .dataframe tbody tr th {\n",
       "        vertical-align: top;\n",
       "    }\n",
       "\n",
       "    .dataframe thead th {\n",
       "        text-align: right;\n",
       "    }\n",
       "</style>\n",
       "<table border=\"1\" class=\"dataframe\">\n",
       "  <thead>\n",
       "    <tr style=\"text-align: right;\">\n",
       "      <th></th>\n",
       "      <th>小臺指期059</th>\n",
       "    </tr>\n",
       "  </thead>\n",
       "  <tbody>\n",
       "    <tr>\n",
       "      <th>4</th>\n",
       "      <td>成交,11014.0000,漲跌,22</td>\n",
       "    </tr>\n",
       "    <tr>\n",
       "      <th>11</th>\n",
       "      <td>時間,045959</td>\n",
       "    </tr>\n",
       "  </tbody>\n",
       "</table>\n",
       "</div>"
      ],
      "text/plain": [
       "                小臺指期059\n",
       "4   成交,11014.0000,漲跌,22\n",
       "11            時間,045959"
      ]
     },
     "execution_count": 49,
     "metadata": {},
     "output_type": "execute_result"
    }
   ],
   "source": [
    "dg=pd.read_csv(\"http://info512ah.taifex.com.tw/Future/ImgChartDetail.ashx?type=1&contract=MTX059\",encoding='big5',\n",
    "               sep='delimiter',engine='python')\n",
    "dg.loc[[4,11]]"
   ]
  },
  {
   "cell_type": "code",
   "execution_count": 51,
   "metadata": {},
   "outputs": [
    {
     "data": {
      "text/html": [
       "<div>\n",
       "<style scoped>\n",
       "    .dataframe tbody tr th:only-of-type {\n",
       "        vertical-align: middle;\n",
       "    }\n",
       "\n",
       "    .dataframe tbody tr th {\n",
       "        vertical-align: top;\n",
       "    }\n",
       "\n",
       "    .dataframe thead th {\n",
       "        text-align: right;\n",
       "    }\n",
       "</style>\n",
       "<table border=\"1\" class=\"dataframe\">\n",
       "  <thead>\n",
       "    <tr style=\"text-align: right;\">\n",
       "      <th></th>\n",
       "      <th>代號</th>\n",
       "      <th>名稱</th>\n",
       "      <th>市值佔大盤比重</th>\n",
       "      <th>昨收</th>\n",
       "      <th>現價</th>\n",
       "    </tr>\n",
       "  </thead>\n",
       "  <tbody>\n",
       "  </tbody>\n",
       "</table>\n",
       "</div>"
      ],
      "text/plain": [
       "Empty DataFrame\n",
       "Columns: [代號, 名稱, 市值佔大盤比重, 昨收, 現價]\n",
       "Index: []"
      ]
     },
     "execution_count": 51,
     "metadata": {},
     "output_type": "execute_result"
    }
   ],
   "source": [
    "smy"
   ]
  },
  {
   "cell_type": "code",
   "execution_count": 53,
   "metadata": {},
   "outputs": [
    {
     "ename": "NameError",
     "evalue": "name 'encodeURIComponent' is not defined",
     "output_type": "error",
     "traceback": [
      "\u001b[1;31m---------------------------------------------------------------------------\u001b[0m",
      "\u001b[1;31mNameError\u001b[0m                                 Traceback (most recent call last)",
      "\u001b[1;32m<ipython-input-53-820ee5233bf6>\u001b[0m in \u001b[0;36m<module>\u001b[1;34m\u001b[0m\n\u001b[1;32m----> 1\u001b[1;33m \u001b[0mencodeURIComponent\u001b[0m\u001b[1;33m(\u001b[0m\u001b[1;33m)\u001b[0m\u001b[1;33m\u001b[0m\u001b[1;33m\u001b[0m\u001b[0m\n\u001b[0m",
      "\u001b[1;31mNameError\u001b[0m: name 'encodeURIComponent' is not defined"
     ]
    }
   ],
   "source": [
    "encodeURIComponent()"
   ]
  }
 ],
 "metadata": {
  "kernelspec": {
   "display_name": "Python 3",
   "language": "python",
   "name": "python3"
  },
  "language_info": {
   "codemirror_mode": {
    "name": "ipython",
    "version": 3
   },
   "file_extension": ".py",
   "mimetype": "text/x-python",
   "name": "python",
   "nbconvert_exporter": "python",
   "pygments_lexer": "ipython3",
   "version": "3.6.8"
  }
 },
 "nbformat": 4,
 "nbformat_minor": 2
}
