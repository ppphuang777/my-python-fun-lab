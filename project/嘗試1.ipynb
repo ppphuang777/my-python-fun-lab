{
 "cells": [
  {
   "cell_type": "markdown",
   "metadata": {},
   "source": [
    "# 讀資料"
   ]
  },
  {
   "cell_type": "code",
   "execution_count": 14,
   "metadata": {},
   "outputs": [],
   "source": [
    "%matplotlib inline\n",
    "import pandas as pd\n",
    "import numpy as np\n",
    "import matplotlib.pyplot as plt"
   ]
  },
  {
   "cell_type": "code",
   "execution_count": 15,
   "metadata": {},
   "outputs": [],
   "source": [
    "df=pd.read_excel(\"C:/Users/黃柏倫/Desktop/data/python project/大盤指數盤後數據.xlsx\",header=0)"
   ]
  },
  {
   "cell_type": "markdown",
   "metadata": {},
   "source": [
    "# 第一次嘗試 RNN"
   ]
  },
  {
   "cell_type": "code",
   "execution_count": 16,
   "metadata": {},
   "outputs": [],
   "source": [
    "from keras.utils import np_utils"
   ]
  },
  {
   "cell_type": "code",
   "execution_count": 4,
   "metadata": {},
   "outputs": [],
   "source": [
    "dfc=np.array(df['收盤價'])\n",
    "dfv=np.array(df['成交值'])\n",
    "dfd=df['年月日']"
   ]
  },
  {
   "cell_type": "code",
   "execution_count": 5,
   "metadata": {},
   "outputs": [],
   "source": [
    "x=[]\n",
    "y=[]\n",
    "n=10\n",
    "after=0\n",
    "for i in range(len(df.index)-n-after):\n",
    "    x.append(list(df.loc[after+i:after+i+(n-1)]['收盤價']))\n",
    "    y.append(df.漲跌平[after+i+n])\n",
    "xx=np.array(x).reshape(len(x),n,1)\n",
    "yy = np_utils.to_categorical(y, 3)"
   ]
  },
  {
   "cell_type": "code",
   "execution_count": 17,
   "metadata": {
    "scrolled": false
   },
   "outputs": [],
   "source": [
    "from sklearn.model_selection import train_test_split"
   ]
  },
  {
   "cell_type": "code",
   "execution_count": 7,
   "metadata": {},
   "outputs": [],
   "source": [
    "x_train,x_test,y_train,y_test=train_test_split(xx,yy,test_size=0.3,random_state=87)"
   ]
  },
  {
   "cell_type": "code",
   "execution_count": 18,
   "metadata": {},
   "outputs": [],
   "source": [
    "from keras.models import Sequential\n",
    "from keras.layers import Dense, add\n",
    "from keras.layers import LSTM"
   ]
  },
  {
   "cell_type": "code",
   "execution_count": 9,
   "metadata": {},
   "outputs": [
    {
     "name": "stdout",
     "output_type": "stream",
     "text": [
      "WARNING:tensorflow:From C:\\Users\\黃柏倫\\AppData\\Roaming\\Python\\Python36\\site-packages\\tensorflow\\python\\framework\\op_def_library.py:263: colocate_with (from tensorflow.python.framework.ops) is deprecated and will be removed in a future version.\n",
      "Instructions for updating:\n",
      "Colocations handled automatically by placer.\n",
      "_________________________________________________________________\n",
      "Layer (type)                 Output Shape              Param #   \n",
      "=================================================================\n",
      "lstm_1 (LSTM)                (None, 10, 20)            1760      \n",
      "_________________________________________________________________\n",
      "lstm_2 (LSTM)                (None, 20)                3280      \n",
      "_________________________________________________________________\n",
      "dense_1 (Dense)              (None, 3)                 63        \n",
      "=================================================================\n",
      "Total params: 5,103\n",
      "Trainable params: 5,103\n",
      "Non-trainable params: 0\n",
      "_________________________________________________________________\n"
     ]
    }
   ],
   "source": [
    "model = Sequential()\n",
    "model.add(LSTM(20, input_shape=(n,1),return_sequences=True))\n",
    "model.add(LSTM(20))\n",
    "model.add(Dense(3, activation='softmax'))\n",
    "model.summary()"
   ]
  },
  {
   "cell_type": "code",
   "execution_count": 10,
   "metadata": {},
   "outputs": [],
   "source": [
    "model.compile(loss='categorical_crossentropy',optimizer=\"Adam\",metrics=['acc'])#,validation)"
   ]
  },
  {
   "cell_type": "code",
   "execution_count": 11,
   "metadata": {
    "scrolled": true
   },
   "outputs": [
    {
     "name": "stdout",
     "output_type": "stream",
     "text": [
      "WARNING:tensorflow:From C:\\Users\\黃柏倫\\AppData\\Roaming\\Python\\Python36\\site-packages\\tensorflow\\python\\ops\\math_ops.py:3066: to_int32 (from tensorflow.python.ops.math_ops) is deprecated and will be removed in a future version.\n",
      "Instructions for updating:\n",
      "Use tf.cast instead.\n",
      "Epoch 1/5\n",
      "9200/9200 [==============================] - 3s 317us/step - loss: 1.0946 - acc: 0.3728\n",
      "Epoch 2/5\n",
      "9200/9200 [==============================] - 1s 70us/step - loss: 1.0946 - acc: 0.3728\n",
      "Epoch 3/5\n",
      "9200/9200 [==============================] - 1s 67us/step - loss: 1.0946 - acc: 0.3728\n",
      "Epoch 4/5\n",
      "9200/9200 [==============================] - 1s 66us/step - loss: 1.0946 - acc: 0.3728\n",
      "Epoch 5/5\n",
      "9200/9200 [==============================] - 1s 64us/step - loss: 1.0946 - acc: 0.3728\n"
     ]
    },
    {
     "data": {
      "text/plain": [
       "<keras.callbacks.History at 0x227de9deac8>"
      ]
     },
     "execution_count": 11,
     "metadata": {},
     "output_type": "execute_result"
    }
   ],
   "source": [
    "model.fit(x_train, y_train,batch_size=1000,epochs=5)"
   ]
  },
  {
   "cell_type": "code",
   "execution_count": 12,
   "metadata": {},
   "outputs": [
    {
     "name": "stdout",
     "output_type": "stream",
     "text": [
      "3944/3944 [==============================] - 1s 192us/step\n"
     ]
    },
    {
     "data": {
      "text/plain": [
       "[1.0926129136075837, 0.37829614604462475]"
      ]
     },
     "execution_count": 12,
     "metadata": {},
     "output_type": "execute_result"
    }
   ],
   "source": [
    "model.evaluate(x_test, y_test)"
   ]
  },
  {
   "cell_type": "code",
   "execution_count": 13,
   "metadata": {},
   "outputs": [
    {
     "data": {
      "text/plain": [
       "array([1, 1, 1, ..., 1, 1, 1], dtype=int64)"
      ]
     },
     "execution_count": 13,
     "metadata": {},
     "output_type": "execute_result"
    }
   ],
   "source": [
    "model.predict_classes(x_test)"
   ]
  },
  {
   "cell_type": "code",
   "execution_count": 14,
   "metadata": {},
   "outputs": [
    {
     "data": {
      "text/plain": [
       "array([[0.2972795 , 0.36716357, 0.33555686],\n",
       "       [0.2972795 , 0.36716357, 0.33555686],\n",
       "       [0.2972795 , 0.36716357, 0.33555686],\n",
       "       ...,\n",
       "       [0.2972795 , 0.36716357, 0.33555686],\n",
       "       [0.2972795 , 0.36716357, 0.33555686],\n",
       "       [0.2972795 , 0.36716357, 0.33555686]], dtype=float32)"
      ]
     },
     "execution_count": 14,
     "metadata": {},
     "output_type": "execute_result"
    }
   ],
   "source": [
    "model.predict(x_test)"
   ]
  },
  {
   "cell_type": "code",
   "execution_count": 15,
   "metadata": {},
   "outputs": [
    {
     "data": {
      "text/plain": [
       "13154"
      ]
     },
     "execution_count": 15,
     "metadata": {},
     "output_type": "execute_result"
    }
   ],
   "source": [
    "len(dfd)"
   ]
  },
  {
   "cell_type": "code",
   "execution_count": 16,
   "metadata": {},
   "outputs": [],
   "source": [
    "yp=model.predict_classes(xx)"
   ]
  },
  {
   "cell_type": "code",
   "execution_count": 19,
   "metadata": {
    "scrolled": true
   },
   "outputs": [
    {
     "name": "stderr",
     "output_type": "stream",
     "text": [
      "C:\\Users\\Po-Lun Huang\\Anaconda3\\lib\\site-packages\\pandas\\plotting\\_converter.py:129: FutureWarning: Using an implicitly registered datetime converter for a matplotlib plotting method. The converter was registered by pandas on import. Future versions of pandas will require you to explicitly register matplotlib converters.\n",
      "\n",
      "To register the converters:\n",
      "\t>>> from pandas.plotting import register_matplotlib_converters\n",
      "\t>>> register_matplotlib_converters()\n",
      "  warnings.warn(msg, FutureWarning)\n"
     ]
    },
    {
     "data": {
      "text/plain": [
       "[<matplotlib.lines.Line2D at 0x227e765b438>]"
      ]
     },
     "execution_count": 19,
     "metadata": {},
     "output_type": "execute_result"
    },
    {
     "data": {
      "image/png": "[encoded data removed]",
      "text/plain": [
       "<Figure size 432x288 with 1 Axes>"
      ]
     },
     "metadata": {
      "needs_background": "light"
     },
     "output_type": "display_data"
    }
   ],
   "source": [
    "st=10000\n",
    "end=10100\n",
    "plt.scatter(dfd[n+st:end],dfc[n+st:end],c=y[st:end-n],s=10,cmap='cool')\n",
    "plt.plot(dfd[n+st:end],dfc[n+st:end],c='black', linewidth=0.5)"
   ]
  },
  {
   "cell_type": "code",
   "execution_count": 20,
   "metadata": {},
   "outputs": [
    {
     "data": {
      "text/plain": [
       "[<matplotlib.lines.Line2D at 0x227e76ec5f8>]"
      ]
     },
     "execution_count": 20,
     "metadata": {},
     "output_type": "execute_result"
    },
    {
     "data": {
      "image/png": "[encoded data removed]",
      "text/plain": [
       "<Figure size 432x288 with 1 Axes>"
      ]
     },
     "metadata": {
      "needs_background": "light"
     },
     "output_type": "display_data"
    }
   ],
   "source": [
    "st=10000\n",
    "end=10100\n",
    "plt.scatter(dfd[n+st:end],dfc[n+st:end],c=yp[st:end-n],s=10,cmap='cool')\n",
    "plt.plot(dfd[n+st:end],dfc[n+st:end],c='black', linewidth=0.5)"
   ]
  },
  {
   "cell_type": "markdown",
   "metadata": {},
   "source": [
    "# RNN normalize"
   ]
  },
  {
   "cell_type": "code",
   "execution_count": 59,
   "metadata": {},
   "outputs": [],
   "source": [
    "def nor(t):\n",
    "    t-= t.min()\n",
    "    t =t/t.max()\n",
    "    return t"
   ]
  },
  {
   "cell_type": "code",
   "execution_count": 60,
   "metadata": {},
   "outputs": [],
   "source": [
    "dfc=nor(np.array(df['收盤價']))"
   ]
  },
  {
   "cell_type": "code",
   "execution_count": 61,
   "metadata": {},
   "outputs": [],
   "source": [
    "x=[]\n",
    "y=[]\n",
    "n=10\n",
    "after=0\n",
    "for i in range(len(df.index)-n-after):\n",
    "    x.append(dfc[after+i:after+i+n])\n",
    "    y.append(df.漲跌平[after+i+n])\n",
    "xx=np.array(x).reshape((len(x),10,1))\n",
    "yy=np_utils.to_categorical(y, 3)"
   ]
  },
  {
   "cell_type": "code",
   "execution_count": 62,
   "metadata": {},
   "outputs": [],
   "source": [
    "x_train,x_test,y_train,y_test=train_test_split(xx,yy,test_size=0.3,random_state=87)"
   ]
  },
  {
   "cell_type": "code",
   "execution_count": 63,
   "metadata": {},
   "outputs": [
    {
     "name": "stdout",
     "output_type": "stream",
     "text": [
      "_________________________________________________________________\n",
      "Layer (type)                 Output Shape              Param #   \n",
      "=================================================================\n",
      "lstm_9 (LSTM)                (None, 10, 20)            1760      \n",
      "_________________________________________________________________\n",
      "lstm_10 (LSTM)               (None, 20)                3280      \n",
      "_________________________________________________________________\n",
      "dense_3 (Dense)              (None, 3)                 63        \n",
      "=================================================================\n",
      "Total params: 5,103\n",
      "Trainable params: 5,103\n",
      "Non-trainable params: 0\n",
      "_________________________________________________________________\n"
     ]
    }
   ],
   "source": [
    "model2 = Sequential()\n",
    "model2.add(LSTM(20, input_shape=(n,1),return_sequences=True))\n",
    "model2.add(LSTM(20))\n",
    "model2.add(Dense(3, activation='softmax'))\n",
    "model2.summary()"
   ]
  },
  {
   "cell_type": "code",
   "execution_count": 64,
   "metadata": {},
   "outputs": [],
   "source": [
    "model2.compile(loss='categorical_crossentropy',optimizer=\"Adam\",metrics=['acc'])#,validation)"
   ]
  },
  {
   "cell_type": "code",
   "execution_count": 65,
   "metadata": {
    "scrolled": true
   },
   "outputs": [
    {
     "name": "stdout",
     "output_type": "stream",
     "text": [
      "Epoch 1/5\n",
      "9200/9200 [==============================] - 2s 257us/step - loss: 1.0967 - acc: 0.3685\n",
      "Epoch 2/5\n",
      "9200/9200 [==============================] - 0s 41us/step - loss: 1.0950 - acc: 0.3728\n",
      "Epoch 3/5\n",
      "9200/9200 [==============================] - 0s 43us/step - loss: 1.0947 - acc: 0.3728\n",
      "Epoch 4/5\n",
      "9200/9200 [==============================] - 0s 42us/step - loss: 1.0943 - acc: 0.3728\n",
      "Epoch 5/5\n",
      "9200/9200 [==============================] - 0s 41us/step - loss: 1.0943 - acc: 0.3728\n"
     ]
    },
    {
     "data": {
      "text/plain": [
       "<keras.callbacks.History at 0x1efc20c3470>"
      ]
     },
     "execution_count": 65,
     "metadata": {},
     "output_type": "execute_result"
    }
   ],
   "source": [
    "model2.fit(x_train, y_train,batch_size=1000,epochs=5)"
   ]
  },
  {
   "cell_type": "code",
   "execution_count": 66,
   "metadata": {},
   "outputs": [
    {
     "name": "stdout",
     "output_type": "stream",
     "text": [
      "3944/3944 [==============================] - 1s 212us/step\n"
     ]
    },
    {
     "data": {
      "text/plain": [
       "[1.0932457891971055, 0.37829614604462475]"
      ]
     },
     "execution_count": 66,
     "metadata": {},
     "output_type": "execute_result"
    }
   ],
   "source": [
    "model2.evaluate(x_test, y_test)"
   ]
  },
  {
   "cell_type": "code",
   "execution_count": 67,
   "metadata": {
    "scrolled": true
   },
   "outputs": [
    {
     "data": {
      "text/plain": [
       "array([[0.3059541 , 0.37177727, 0.3222686 ],\n",
       "       [0.3022283 , 0.3636482 , 0.33412343],\n",
       "       [0.2975093 , 0.35404053, 0.34845012],\n",
       "       ...,\n",
       "       [0.29750448, 0.35403436, 0.3484611 ],\n",
       "       [0.2974694 , 0.35396942, 0.34856114],\n",
       "       [0.29740027, 0.3538364 , 0.34876335]], dtype=float32)"
      ]
     },
     "execution_count": 67,
     "metadata": {},
     "output_type": "execute_result"
    }
   ],
   "source": [
    "model2.predict(x_test)"
   ]
  },
  {
   "cell_type": "code",
   "execution_count": 68,
   "metadata": {
    "scrolled": true
   },
   "outputs": [
    {
     "data": {
      "text/plain": [
       "[<matplotlib.lines.Line2D at 0x1efc5ac9fd0>]"
      ]
     },
     "execution_count": 68,
     "metadata": {},
     "output_type": "execute_result"
    },
    {
     "data": {
      "image/png": "[encoded data removed]",
      "text/plain": [
       "<Figure size 432x288 with 1 Axes>"
      ]
     },
     "metadata": {
      "needs_background": "light"
     },
     "output_type": "display_data"
    }
   ],
   "source": [
    "st=10000\n",
    "end=10100\n",
    "plt.scatter(dfd[n+st:end],dfc[n+st:end],c=y[st:end-n],s=10,cmap='cool')\n",
    "plt.plot(dfd[n+st:end],dfc[n+st:end],c='black', linewidth=0.5)"
   ]
  },
  {
   "cell_type": "code",
   "execution_count": 70,
   "metadata": {},
   "outputs": [
    {
     "data": {
      "text/plain": [
       "[<matplotlib.lines.Line2D at 0x1efc5b7abe0>]"
      ]
     },
     "execution_count": 70,
     "metadata": {},
     "output_type": "execute_result"
    },
    {
     "data": {
      "image/png": "[encoded data removed]",
      "text/plain": [
       "<Figure size 432x288 with 1 Axes>"
      ]
     },
     "metadata": {
      "needs_background": "light"
     },
     "output_type": "display_data"
    }
   ],
   "source": [
    "st=10000\n",
    "end=10100\n",
    "plt.scatter(dfd[n+st:end],dfc[n+st:end],c=ypp[st:end-n],s=10,cmap='cool')\n",
    "plt.plot(dfd[n+st:end],dfc[n+st:end],c='black', linewidth=0.5)"
   ]
  },
  {
   "cell_type": "markdown",
   "metadata": {},
   "source": [
    "# API  feat. RNN"
   ]
  },
  {
   "cell_type": "code",
   "execution_count": 79,
   "metadata": {},
   "outputs": [],
   "source": [
    "dfc=np.array(df['收盤價'])\n",
    "dfv=np.array(df['成交值'])\n",
    "dfd=df['年月日']"
   ]
  },
  {
   "cell_type": "code",
   "execution_count": 80,
   "metadata": {},
   "outputs": [
    {
     "data": {
      "text/plain": [
       "0       1971-01-05\n",
       "1       1971-01-06\n",
       "2       1971-01-07\n",
       "3       1971-01-08\n",
       "4       1971-01-09\n",
       "5       1971-01-11\n",
       "6       1971-01-12\n",
       "7       1971-01-13\n",
       "8       1971-01-14\n",
       "9       1971-01-15\n",
       "10      1971-01-16\n",
       "11      1971-01-18\n",
       "12      1971-01-19\n",
       "13      1971-01-20\n",
       "14      1971-01-21\n",
       "15      1971-01-22\n",
       "16      1971-01-23\n",
       "17      1971-01-25\n",
       "18      1971-02-01\n",
       "19      1971-02-02\n",
       "20      1971-02-03\n",
       "21      1971-02-04\n",
       "22      1971-02-05\n",
       "23      1971-02-06\n",
       "24      1971-02-08\n",
       "25      1971-02-09\n",
       "26      1971-02-10\n",
       "27      1971-02-11\n",
       "28      1971-02-12\n",
       "29      1971-02-13\n",
       "           ...    \n",
       "13124   2019-04-08\n",
       "13125   2019-04-09\n",
       "13126   2019-04-10\n",
       "13127   2019-04-11\n",
       "13128   2019-04-12\n",
       "13129   2019-04-15\n",
       "13130   2019-04-16\n",
       "13131   2019-04-17\n",
       "13132   2019-04-18\n",
       "13133   2019-04-19\n",
       "13134   2019-04-22\n",
       "13135   2019-04-23\n",
       "13136   2019-04-24\n",
       "13137   2019-04-25\n",
       "13138   2019-04-26\n",
       "13139   2019-04-29\n",
       "13140   2019-04-30\n",
       "13141   2019-05-02\n",
       "13142   2019-05-03\n",
       "13143   2019-05-06\n",
       "13144   2019-05-07\n",
       "13145   2019-05-08\n",
       "13146   2019-05-09\n",
       "13147   2019-05-10\n",
       "13148   2019-05-13\n",
       "13149   2019-05-14\n",
       "13150   2019-05-15\n",
       "13151   2019-05-16\n",
       "13152   2019-05-17\n",
       "13153   2019-05-20\n",
       "Name: 年月日, Length: 13154, dtype: datetime64[ns]"
      ]
     },
     "execution_count": 80,
     "metadata": {},
     "output_type": "execute_result"
    }
   ],
   "source": [
    "dfd"
   ]
  },
  {
   "cell_type": "code",
   "execution_count": 81,
   "metadata": {},
   "outputs": [
    {
     "data": {
      "text/plain": [
       "<matplotlib.collections.PathCollection at 0x1efc60df940>"
      ]
     },
     "execution_count": 81,
     "metadata": {},
     "output_type": "execute_result"
    },
    {
     "data": {
      "image/png": "[encoded data removed]",
      "text/plain": [
       "<Figure size 432x288 with 1 Axes>"
      ]
     },
     "metadata": {
      "needs_background": "light"
     },
     "output_type": "display_data"
    }
   ],
   "source": [
    "plt.scatter(dfd[4000:],dfc[4000:], s=5)"
   ]
  },
  {
   "cell_type": "code",
   "execution_count": 82,
   "metadata": {},
   "outputs": [],
   "source": [
    "a=[]\n",
    "b=[]\n",
    "y=[]\n",
    "n=10\n",
    "after=0\n",
    "for i in range(len(df.index)-n):\n",
    "    a.append(dfc[after+i:after+i+n])\n",
    "    b.append(dfv[after+i:after+i+n])\n",
    "    y.append(df.漲跌平[after+i+n])\n",
    "a=np.array(a).reshape(len(a),n,1)\n",
    "b=np.array(b).reshape(len(b),n,1)\n",
    "yy = np_utils.to_categorical(y, 3)"
   ]
  },
  {
   "cell_type": "code",
   "execution_count": 83,
   "metadata": {},
   "outputs": [],
   "source": [
    "aa=[]\n",
    "bb=[]\n",
    "for i in range(len(a)):\n",
    "    aa.append(nor(a[i]))\n",
    "    bb.append(nor(b[i]))\n",
    "aa=np.array(aa)\n",
    "bb=np.array(bb)"
   ]
  },
  {
   "cell_type": "code",
   "execution_count": 84,
   "metadata": {},
   "outputs": [],
   "source": [
    "se=87\n",
    "a_train,a_test,y_train,y_test=train_test_split(aa,yy,test_size=0.3,random_state=se)\n",
    "b_train,b_test,y_train,y_test=train_test_split(bb,yy,test_size=0.3,random_state=se)"
   ]
  },
  {
   "cell_type": "code",
   "execution_count": 85,
   "metadata": {},
   "outputs": [],
   "source": [
    "from keras.models import Model\n",
    "from keras.layers import Input\n",
    "from keras.layers import concatenate\n",
    "from keras.layers import Dropout"
   ]
  },
  {
   "cell_type": "code",
   "execution_count": 86,
   "metadata": {},
   "outputs": [],
   "source": [
    "f_1 = LSTM(20, input_shape=(n,1),return_sequences='Ture')\n",
    "g_1 = LSTM(20, input_shape=(n,1),return_sequences='Ture')\n",
    "f_2 = Dropout(0.5)\n",
    "g_2 = Dropout(0.5)\n",
    "f_3 = LSTM(20, input_shape=(n,1))\n",
    "g_3 = LSTM(20, input_shape=(n,1))\n",
    "f_4 = Dropout(0.25)\n",
    "g_4 = Dropout(0.25)\n",
    "h_1 = Dense(3, activation='softmax')"
   ]
  },
  {
   "cell_type": "code",
   "execution_count": 87,
   "metadata": {},
   "outputs": [],
   "source": [
    "a0 = Input(shape=(n,1))\n",
    "a1 = f_1(a0)\n",
    "a2 = f_2(a1)\n",
    "a3 = f_3(a2)\n",
    "a4 = f_4(a3)\n",
    "\n",
    "b0 = Input(shape=(n,1))\n",
    "b1 = f_1(b0)\n",
    "b2 = f_2(b1)\n",
    "b3 = f_3(b2)\n",
    "b4 = f_4(b3)\n",
    "\n",
    "u = concatenate([a4,b4])\n",
    "\n",
    "q = h_1(u)"
   ]
  },
  {
   "cell_type": "code",
   "execution_count": 88,
   "metadata": {},
   "outputs": [
    {
     "name": "stdout",
     "output_type": "stream",
     "text": [
      "__________________________________________________________________________________________________\n",
      "Layer (type)                    Output Shape         Param #     Connected to                     \n",
      "==================================================================================================\n",
      "input_5 (InputLayer)            (None, 10, 1)        0                                            \n",
      "__________________________________________________________________________________________________\n",
      "input_6 (InputLayer)            (None, 10, 1)        0                                            \n",
      "__________________________________________________________________________________________________\n",
      "lstm_11 (LSTM)                  (None, 10, 20)       1760        input_5[0][0]                    \n",
      "                                                                 input_6[0][0]                    \n",
      "__________________________________________________________________________________________________\n",
      "dropout_9 (Dropout)             (None, 10, 20)       0           lstm_11[0][0]                    \n",
      "                                                                 lstm_11[1][0]                    \n",
      "__________________________________________________________________________________________________\n",
      "lstm_13 (LSTM)                  (None, 20)           3280        dropout_9[0][0]                  \n",
      "                                                                 dropout_9[1][0]                  \n",
      "__________________________________________________________________________________________________\n",
      "dropout_11 (Dropout)            (None, 20)           0           lstm_13[0][0]                    \n",
      "                                                                 lstm_13[1][0]                    \n",
      "__________________________________________________________________________________________________\n",
      "concatenate_3 (Concatenate)     (None, 40)           0           dropout_11[0][0]                 \n",
      "                                                                 dropout_11[1][0]                 \n",
      "__________________________________________________________________________________________________\n",
      "dense_4 (Dense)                 (None, 3)            123         concatenate_3[0][0]              \n",
      "==================================================================================================\n",
      "Total params: 5,163\n",
      "Trainable params: 5,163\n",
      "Non-trainable params: 0\n",
      "__________________________________________________________________________________________________\n"
     ]
    }
   ],
   "source": [
    "model3 = Model([a0,b0], q)\n",
    "model3.summary()"
   ]
  },
  {
   "cell_type": "code",
   "execution_count": 89,
   "metadata": {},
   "outputs": [],
   "source": [
    "model3.compile(loss='categorical_crossentropy',optimizer=\"adam\",metrics=['acc'])#,validation)"
   ]
  },
  {
   "cell_type": "code",
   "execution_count": 90,
   "metadata": {
    "scrolled": false
   },
   "outputs": [
    {
     "name": "stdout",
     "output_type": "stream",
     "text": [
      "Epoch 1/5\n",
      "9200/9200 [==============================] - 4s 435us/step - loss: 1.1008 - acc: 0.3362\n",
      "Epoch 2/5\n",
      "9200/9200 [==============================] - 1s 89us/step - loss: 1.0956 - acc: 0.3686\n",
      "Epoch 3/5\n",
      "9200/9200 [==============================] - 1s 112us/step - loss: 1.0954 - acc: 0.3737\n",
      "Epoch 4/5\n",
      "9200/9200 [==============================] - 1s 112us/step - loss: 1.0949 - acc: 0.3718\n",
      "Epoch 5/5\n",
      "9200/9200 [==============================] - 1s 99us/step - loss: 1.0946 - acc: 0.3740\n"
     ]
    },
    {
     "data": {
      "text/plain": [
       "<keras.callbacks.History at 0x1efad7f1320>"
      ]
     },
     "execution_count": 90,
     "metadata": {},
     "output_type": "execute_result"
    }
   ],
   "source": [
    "model3.fit([a_train,b_train], y_train,batch_size=1000,epochs=5)"
   ]
  },
  {
   "cell_type": "code",
   "execution_count": 91,
   "metadata": {},
   "outputs": [
    {
     "name": "stdout",
     "output_type": "stream",
     "text": [
      "3944/3944 [==============================] - 1s 277us/step\n"
     ]
    },
    {
     "data": {
      "text/plain": [
       "[1.092417471790894, 0.37829614604462475]"
      ]
     },
     "execution_count": 91,
     "metadata": {},
     "output_type": "execute_result"
    }
   ],
   "source": [
    "model3.evaluate([a_test,b_test], y_test)"
   ]
  },
  {
   "cell_type": "code",
   "execution_count": 92,
   "metadata": {},
   "outputs": [
    {
     "data": {
      "text/plain": [
       "array([[0.29717126, 0.36566728, 0.33716148],\n",
       "       [0.2991704 , 0.3731192 , 0.32771033],\n",
       "       [0.30167064, 0.37198827, 0.32634103],\n",
       "       ...,\n",
       "       [0.2966833 , 0.36957958, 0.33373713],\n",
       "       [0.30043256, 0.37268105, 0.32688633],\n",
       "       [0.30221102, 0.36824772, 0.3295412 ]], dtype=float32)"
      ]
     },
     "execution_count": 92,
     "metadata": {},
     "output_type": "execute_result"
    }
   ],
   "source": [
    "model3.predict([a_test,b_test])"
   ]
  },
  {
   "cell_type": "code",
   "execution_count": 93,
   "metadata": {},
   "outputs": [],
   "source": [
    "yp = model3.predict([a,b])\n",
    "ypp=np.argmax(yp,axis=1)"
   ]
  },
  {
   "cell_type": "code",
   "execution_count": 94,
   "metadata": {
    "scrolled": true
   },
   "outputs": [
    {
     "data": {
      "text/plain": [
       "[<matplotlib.lines.Line2D at 0x1efc8d72fd0>]"
      ]
     },
     "execution_count": 94,
     "metadata": {},
     "output_type": "execute_result"
    },
    {
     "data": {
      "image/png": "[encoded data removed]",
      "text/plain": [
       "<Figure size 432x288 with 2 Axes>"
      ]
     },
     "metadata": {
      "needs_background": "light"
     },
     "output_type": "display_data"
    }
   ],
   "source": [
    "st=499\n",
    "end=st+n+10\n",
    "plt.subplot(211)\n",
    "plt.scatter(dfd[n+st:end],dfc[n+st:end],c=y[st:end-n],s=10,cmap='cool')\n",
    "plt.plot(dfd[n+st:end],dfc[n+st:end],c='black', linewidth=0.5)\n",
    "plt.subplot(212)\n",
    "plt.scatter(dfd[n+st:end],dfc[n+st:end],c=ypp[st:end-n],s=10,cmap='cool')\n",
    "plt.plot(dfd[n+st:end],dfc[n+st:end],c='black', linewidth=0.5)"
   ]
  },
  {
   "cell_type": "markdown",
   "metadata": {},
   "source": [
    "# API feat.NN"
   ]
  },
  {
   "cell_type": "code",
   "execution_count": 21,
   "metadata": {},
   "outputs": [],
   "source": [
    "dfc=np.array(df['收盤價'])\n",
    "dfv=np.array(df['成交值'])"
   ]
  },
  {
   "cell_type": "code",
   "execution_count": 23,
   "metadata": {},
   "outputs": [],
   "source": [
    "a=[]\n",
    "b=[]\n",
    "y=[]\n",
    "n=10\n",
    "after=0\n",
    "for i in range(len(df.index)-n):\n",
    "    a.append(dfc[after+i:after+i+n])\n",
    "    b.append(dfv[after+i:after+i+n])\n",
    "    y.append(df.漲跌平[after+i+n])\n",
    "a=np.array(a).reshape(len(a),n)\n",
    "b=np.array(b).reshape(len(b),n)\n",
    "yy = np_utils.to_categorical(y, 3)"
   ]
  },
  {
   "cell_type": "code",
   "execution_count": 25,
   "metadata": {},
   "outputs": [],
   "source": [
    "se=87\n",
    "a_train,a_test,y_train,y_test=train_test_split(a,yy,test_size=0.3,random_state=se)\n",
    "b_train,b_test,y_train,y_test=train_test_split(b,yy,test_size=0.3,random_state=se)"
   ]
  },
  {
   "cell_type": "code",
   "execution_count": 28,
   "metadata": {},
   "outputs": [],
   "source": [
    "f_1 = Dense(300,input_dim=10, activation='sigmoid')\n",
    "g_1 = Dense(300,input_dim=10, activation='sigmoid')\n",
    "\n",
    "h_1 = Dense(3, activation='softmax')"
   ]
  },
  {
   "cell_type": "code",
   "execution_count": 29,
   "metadata": {},
   "outputs": [],
   "source": [
    "a0 = Input(shape=(n,))\n",
    "b0 = Input(shape=(n,))\n",
    "a1 = f_1(a0)\n",
    "\n",
    "b1 = g_1(b0)\n",
    "\n",
    "\n",
    "u = concatenate([a1,b1])\n",
    "\n",
    "q = h_1(u)"
   ]
  },
  {
   "cell_type": "code",
   "execution_count": 30,
   "metadata": {},
   "outputs": [
    {
     "name": "stdout",
     "output_type": "stream",
     "text": [
      "__________________________________________________________________________________________________\n",
      "Layer (type)                    Output Shape         Param #     Connected to                     \n",
      "==================================================================================================\n",
      "input_1 (InputLayer)            (None, 10)           0                                            \n",
      "__________________________________________________________________________________________________\n",
      "input_2 (InputLayer)            (None, 10)           0                                            \n",
      "__________________________________________________________________________________________________\n",
      "dense_2 (Dense)                 (None, 300)          3300        input_1[0][0]                    \n",
      "__________________________________________________________________________________________________\n",
      "dense_3 (Dense)                 (None, 300)          3300        input_2[0][0]                    \n",
      "__________________________________________________________________________________________________\n",
      "concatenate_1 (Concatenate)     (None, 600)          0           dense_2[0][0]                    \n",
      "                                                                 dense_3[0][0]                    \n",
      "__________________________________________________________________________________________________\n",
      "dense_4 (Dense)                 (None, 3)            1803        concatenate_1[0][0]              \n",
      "==================================================================================================\n",
      "Total params: 8,403\n",
      "Trainable params: 8,403\n",
      "Non-trainable params: 0\n",
      "__________________________________________________________________________________________________\n"
     ]
    }
   ],
   "source": [
    "model4 = Model([a0,b0],q )\n",
    "model4.summary()"
   ]
  },
  {
   "cell_type": "code",
   "execution_count": 31,
   "metadata": {},
   "outputs": [],
   "source": [
    "model4.compile(loss='categorical_crossentropy',optimizer=\"adam\",metrics=['acc'])#,validation)"
   ]
  },
  {
   "cell_type": "code",
   "execution_count": 34,
   "metadata": {
    "scrolled": true
   },
   "outputs": [
    {
     "name": "stdout",
     "output_type": "stream",
     "text": [
      "Epoch 1/5\n",
      "9200/9200 [==============================] - 0s 19us/step - loss: 1.0901 - acc: 0.3837\n",
      "Epoch 2/5\n",
      "9200/9200 [==============================] - 0s 14us/step - loss: 1.0914 - acc: 0.3820\n",
      "Epoch 3/5\n",
      "9200/9200 [==============================] - 0s 14us/step - loss: 1.0926 - acc: 0.3765\n",
      "Epoch 4/5\n",
      "9200/9200 [==============================] - 0s 15us/step - loss: 1.0887 - acc: 0.3883\n",
      "Epoch 5/5\n",
      "9200/9200 [==============================] - 0s 14us/step - loss: 1.0912 - acc: 0.3883\n"
     ]
    },
    {
     "data": {
      "text/plain": [
       "<keras.callbacks.History at 0x227e7dfe2b0>"
      ]
     },
     "execution_count": 34,
     "metadata": {},
     "output_type": "execute_result"
    }
   ],
   "source": [
    "model4.fit([a_train,b_train], y_train,batch_size=1000,epochs=5)"
   ]
  },
  {
   "cell_type": "code",
   "execution_count": 35,
   "metadata": {},
   "outputs": [
    {
     "name": "stdout",
     "output_type": "stream",
     "text": [
      "3944/3944 [==============================] - 0s 61us/step\n"
     ]
    },
    {
     "data": {
      "text/plain": [
       "[1.0898970068105578, 0.38260649087221094]"
      ]
     },
     "execution_count": 35,
     "metadata": {},
     "output_type": "execute_result"
    }
   ],
   "source": [
    "model4.evaluate([a_test,b_test], y_test)"
   ]
  },
  {
   "cell_type": "code",
   "execution_count": 36,
   "metadata": {
    "scrolled": false
   },
   "outputs": [
    {
     "data": {
      "text/plain": [
       "array([[0.30916843, 0.3516931 , 0.3391385 ],\n",
       "       [0.27341676, 0.39345172, 0.3331315 ],\n",
       "       [0.28811324, 0.32272786, 0.3891589 ],\n",
       "       ...,\n",
       "       [0.30408853, 0.39397877, 0.30193266],\n",
       "       [0.35183552, 0.31999505, 0.32816947],\n",
       "       [0.24546781, 0.40015975, 0.35437244]], dtype=float32)"
      ]
     },
     "execution_count": 36,
     "metadata": {},
     "output_type": "execute_result"
    }
   ],
   "source": [
    "model4.predict([a_test,b_test])"
   ]
  },
  {
   "cell_type": "code",
   "execution_count": 41,
   "metadata": {},
   "outputs": [],
   "source": [
    "yp = model4.predict([a,b])\n",
    "ypp=np.argmax(yp,axis=1)"
   ]
  },
  {
   "cell_type": "code",
   "execution_count": 57,
   "metadata": {
    "scrolled": true
   },
   "outputs": [
    {
     "data": {
      "text/plain": [
       "[<matplotlib.lines.Line2D at 0x227e9573208>]"
      ]
     },
     "execution_count": 57,
     "metadata": {},
     "output_type": "execute_result"
    },
    {
     "data": {
      "image/png": "[encoded data removed]",
      "text/plain": [
       "<Figure size 432x288 with 2 Axes>"
      ]
     },
     "metadata": {
      "needs_background": "light"
     },
     "output_type": "display_data"
    }
   ],
   "source": [
    "st=499\n",
    "end=st+n+10\n",
    "plt.subplot(211)\n",
    "plt.scatter(dfd[n+st:end],dfc[n+st:end],c=y[st:end-n],s=10,cmap='cool')\n",
    "plt.plot(dfd[n+st:end],dfc[n+st:end],c='black', linewidth=0.5)\n",
    "plt.subplot(212)\n",
    "plt.scatter(dfd[n+st:end],dfc[n+st:end],c=ypp[st:end-n],s=10,cmap='cool')\n",
    "plt.plot(dfd[n+st:end],dfc[n+st:end],c='black', linewidth=0.5)"
   ]
  },
  {
   "cell_type": "code",
   "execution_count": null,
   "metadata": {},
   "outputs": [],
   "source": []
  }
 ],
 "metadata": {
  "kernelspec": {
   "display_name": "Python 3",
   "language": "python",
   "name": "python3"
  },
  "language_info": {
   "codemirror_mode": {
    "name": "ipython",
    "version": 3
   },
   "file_extension": ".py",
   "mimetype": "text/x-python",
   "name": "python",
   "nbconvert_exporter": "python",
   "pygments_lexer": "ipython3",
   "version": "3.6.8"
  }
 },
 "nbformat": 4,
 "nbformat_minor": 2
}
