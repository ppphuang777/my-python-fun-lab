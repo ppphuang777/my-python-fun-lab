{
 "cells": [
  {
   "cell_type": "code",
   "execution_count": 1,
   "metadata": {},
   "outputs": [],
   "source": [
    "%matplotlib inline\n",
    "\n",
    "import numpy as np\n",
    "import pandas as pd\n",
    "import matplotlib.pyplot as plt\n",
    "import locale"
   ]
  },
  {
   "cell_type": "code",
   "execution_count": 2,
   "metadata": {},
   "outputs": [
    {
     "name": "stdout",
     "output_type": "stream",
     "text": [
      "請輸入是日期:ex:20190325\n",
      "20190325\n"
     ]
    }
   ],
   "source": [
    "u=input(\"請輸入是日期:ex:20190325\\n\")"
   ]
  },
  {
   "cell_type": "code",
   "execution_count": 3,
   "metadata": {},
   "outputs": [],
   "source": [
    "df0=pd.read_csv(f\"http://www.twse.com.tw/exchangeReport/MI_5MINS_INDEX?response=csv&date={u}\",encoding='Big5')"
   ]
  },
  {
   "cell_type": "code",
   "execution_count": 4,
   "metadata": {},
   "outputs": [],
   "source": [
    "df=df0[df0.columns[0]].index"
   ]
  },
  {
   "cell_type": "code",
   "execution_count": 5,
   "metadata": {},
   "outputs": [],
   "source": [
    "df2=pd.DataFrame(columns=df[0])\n",
    "\n",
    "for i in range(len(df)-1):\n",
    "    df2.loc[i]=df[i+1]\n",
    "    \n",
    "df2=df2.loc[0:3240]"
   ]
  },
  {
   "cell_type": "code",
   "execution_count": 6,
   "metadata": {},
   "outputs": [
    {
     "data": {
      "text/html": [
       "<div>\n",
       "<style scoped>\n",
       "    .dataframe tbody tr th:only-of-type {\n",
       "        vertical-align: middle;\n",
       "    }\n",
       "\n",
       "    .dataframe tbody tr th {\n",
       "        vertical-align: top;\n",
       "    }\n",
       "\n",
       "    .dataframe thead th {\n",
       "        text-align: right;\n",
       "    }\n",
       "</style>\n",
       "<table border=\"1\" class=\"dataframe\">\n",
       "  <thead>\n",
       "    <tr style=\"text-align: right;\">\n",
       "      <th></th>\n",
       "      <th>時間</th>\n",
       "      <th>發行量加權股價指數</th>\n",
       "      <th>未含金融保險股指數</th>\n",
       "      <th>未含電子股指數</th>\n",
       "      <th>未含金融電子股指數</th>\n",
       "      <th>水泥類指數</th>\n",
       "      <th>食品類指數</th>\n",
       "      <th>塑膠類指數</th>\n",
       "      <th>紡織纖維類指數</th>\n",
       "      <th>電機機械類指數</th>\n",
       "      <th>...</th>\n",
       "      <th>電子通路類指數</th>\n",
       "      <th>資訊服務類指數</th>\n",
       "      <th>其他電子類指數</th>\n",
       "      <th>建材營造類指數</th>\n",
       "      <th>航運類指數</th>\n",
       "      <th>觀光類指數</th>\n",
       "      <th>金融保險類指數</th>\n",
       "      <th>貿易百貨類指數</th>\n",
       "      <th>油電燃氣類指數</th>\n",
       "      <th>其他類指數</th>\n",
       "    </tr>\n",
       "  </thead>\n",
       "  <tbody>\n",
       "    <tr>\n",
       "      <th>0</th>\n",
       "      <td>=\"09:00:00\"</td>\n",
       "      <td>10,639.07</td>\n",
       "      <td>8,958.58</td>\n",
       "      <td>14,856.23</td>\n",
       "      <td>12,603.20</td>\n",
       "      <td>143.46</td>\n",
       "      <td>1,698.73</td>\n",
       "      <td>290.01</td>\n",
       "      <td>571.00</td>\n",
       "      <td>179.25</td>\n",
       "      <td>...</td>\n",
       "      <td>114.69</td>\n",
       "      <td>103.17</td>\n",
       "      <td>74.40</td>\n",
       "      <td>279.70</td>\n",
       "      <td>65.38</td>\n",
       "      <td>102.36</td>\n",
       "      <td>1,256.70</td>\n",
       "      <td>241.48</td>\n",
       "      <td>146.16</td>\n",
       "      <td>274.06</td>\n",
       "    </tr>\n",
       "    <tr>\n",
       "      <th>1</th>\n",
       "      <td>=\"09:00:05\"</td>\n",
       "      <td>10,535.12</td>\n",
       "      <td>8,863.78</td>\n",
       "      <td>14,837.46</td>\n",
       "      <td>12,606.57</td>\n",
       "      <td>145.35</td>\n",
       "      <td>1,698.86</td>\n",
       "      <td>290.01</td>\n",
       "      <td>570.97</td>\n",
       "      <td>179.20</td>\n",
       "      <td>...</td>\n",
       "      <td>114.69</td>\n",
       "      <td>103.17</td>\n",
       "      <td>73.54</td>\n",
       "      <td>279.67</td>\n",
       "      <td>65.38</td>\n",
       "      <td>102.36</td>\n",
       "      <td>1,250.63</td>\n",
       "      <td>241.48</td>\n",
       "      <td>146.16</td>\n",
       "      <td>274.05</td>\n",
       "    </tr>\n",
       "    <tr>\n",
       "      <th>2</th>\n",
       "      <td>=\"09:00:10\"</td>\n",
       "      <td>10,512.58</td>\n",
       "      <td>8,846.40</td>\n",
       "      <td>14,794.60</td>\n",
       "      <td>12,571.95</td>\n",
       "      <td>145.58</td>\n",
       "      <td>1,698.87</td>\n",
       "      <td>288.61</td>\n",
       "      <td>565.91</td>\n",
       "      <td>177.58</td>\n",
       "      <td>...</td>\n",
       "      <td>114.53</td>\n",
       "      <td>102.99</td>\n",
       "      <td>73.48</td>\n",
       "      <td>279.49</td>\n",
       "      <td>65.18</td>\n",
       "      <td>102.36</td>\n",
       "      <td>1,246.60</td>\n",
       "      <td>241.48</td>\n",
       "      <td>146.16</td>\n",
       "      <td>274.03</td>\n",
       "    </tr>\n",
       "    <tr>\n",
       "      <th>3</th>\n",
       "      <td>=\"09:00:15\"</td>\n",
       "      <td>10,499.69</td>\n",
       "      <td>8,835.65</td>\n",
       "      <td>14,765.60</td>\n",
       "      <td>12,543.73</td>\n",
       "      <td>145.68</td>\n",
       "      <td>1,689.95</td>\n",
       "      <td>288.27</td>\n",
       "      <td>565.21</td>\n",
       "      <td>177.46</td>\n",
       "      <td>...</td>\n",
       "      <td>114.28</td>\n",
       "      <td>102.73</td>\n",
       "      <td>73.40</td>\n",
       "      <td>279.43</td>\n",
       "      <td>64.98</td>\n",
       "      <td>102.32</td>\n",
       "      <td>1,244.99</td>\n",
       "      <td>240.05</td>\n",
       "      <td>146.16</td>\n",
       "      <td>272.26</td>\n",
       "    </tr>\n",
       "    <tr>\n",
       "      <th>4</th>\n",
       "      <td>=\"09:00:20\"</td>\n",
       "      <td>10,487.06</td>\n",
       "      <td>8,824.17</td>\n",
       "      <td>14,738.64</td>\n",
       "      <td>12,514.35</td>\n",
       "      <td>145.68</td>\n",
       "      <td>1,689.33</td>\n",
       "      <td>288.12</td>\n",
       "      <td>564.72</td>\n",
       "      <td>177.15</td>\n",
       "      <td>...</td>\n",
       "      <td>114.22</td>\n",
       "      <td>102.53</td>\n",
       "      <td>73.38</td>\n",
       "      <td>279.25</td>\n",
       "      <td>64.98</td>\n",
       "      <td>102.32</td>\n",
       "      <td>1,244.22</td>\n",
       "      <td>239.80</td>\n",
       "      <td>144.37</td>\n",
       "      <td>271.07</td>\n",
       "    </tr>\n",
       "  </tbody>\n",
       "</table>\n",
       "<p>5 rows × 35 columns</p>\n",
       "</div>"
      ],
      "text/plain": [
       "            時間  發行量加權股價指數 未含金融保險股指數    未含電子股指數  未含金融電子股指數   水泥類指數     食品類指數  \\\n",
       "0  =\"09:00:00\"  10,639.07  8,958.58  14,856.23  12,603.20  143.46  1,698.73   \n",
       "1  =\"09:00:05\"  10,535.12  8,863.78  14,837.46  12,606.57  145.35  1,698.86   \n",
       "2  =\"09:00:10\"  10,512.58  8,846.40  14,794.60  12,571.95  145.58  1,698.87   \n",
       "3  =\"09:00:15\"  10,499.69  8,835.65  14,765.60  12,543.73  145.68  1,689.95   \n",
       "4  =\"09:00:20\"  10,487.06  8,824.17  14,738.64  12,514.35  145.68  1,689.33   \n",
       "\n",
       "    塑膠類指數 紡織纖維類指數 電機機械類指數  ... 電子通路類指數 資訊服務類指數 其他電子類指數 建材營造類指數  航運類指數   觀光類指數  \\\n",
       "0  290.01  571.00  179.25  ...  114.69  103.17   74.40  279.70  65.38  102.36   \n",
       "1  290.01  570.97  179.20  ...  114.69  103.17   73.54  279.67  65.38  102.36   \n",
       "2  288.61  565.91  177.58  ...  114.53  102.99   73.48  279.49  65.18  102.36   \n",
       "3  288.27  565.21  177.46  ...  114.28  102.73   73.40  279.43  64.98  102.32   \n",
       "4  288.12  564.72  177.15  ...  114.22  102.53   73.38  279.25  64.98  102.32   \n",
       "\n",
       "    金融保險類指數 貿易百貨類指數 油電燃氣類指數   其他類指數  \n",
       "0  1,256.70  241.48  146.16  274.06  \n",
       "1  1,250.63  241.48  146.16  274.05  \n",
       "2  1,246.60  241.48  146.16  274.03  \n",
       "3  1,244.99  240.05  146.16  272.26  \n",
       "4  1,244.22  239.80  144.37  271.07  \n",
       "\n",
       "[5 rows x 35 columns]"
      ]
     },
     "execution_count": 6,
     "metadata": {},
     "output_type": "execute_result"
    }
   ],
   "source": [
    "df2.head()"
   ]
  },
  {
   "cell_type": "code",
   "execution_count": 7,
   "metadata": {},
   "outputs": [],
   "source": [
    "for i in range(len(df2[df2.columns[1]])):\n",
    "    df2.loc[:,df2.columns[1]][i]=df2.loc[:,df2.columns[1]].values[i].replace(\",\",\"\")"
   ]
  },
  {
   "cell_type": "code",
   "execution_count": null,
   "metadata": {},
   "outputs": [
    {
     "data": {
      "text/plain": [
       "'Chinese (Traditional)_Taiwan.950'"
      ]
     },
     "execution_count": 8,
     "metadata": {},
     "output_type": "execute_result"
    }
   ],
   "source": [
    "locale.setlocale(locale.LC_NUMERIC,\"\")"
   ]
  },
  {
   "cell_type": "code",
   "execution_count": null,
   "metadata": {},
   "outputs": [],
   "source": [
    "df2[df2.columns[1]]=df2[df2.columns[1]].apply(locale.atof)"
   ]
  },
  {
   "cell_type": "code",
   "execution_count": null,
   "metadata": {},
   "outputs": [],
   "source": [
    "import matplotlib as mpl\n",
    "\n",
    "mpl.rc('font',family='SimHei')"
   ]
  },
  {
   "cell_type": "code",
   "execution_count": null,
   "metadata": {
    "scrolled": true
   },
   "outputs": [
    {
     "data": {
      "text/plain": [
       "[<matplotlib.lines.Line2D at 0x1a234747b38>]"
      ]
     },
     "execution_count": 11,
     "metadata": {},
     "output_type": "execute_result"
    },
    {
     "data": {
      "image/png": "[encoded data removed]",
      "text/plain": [
       "<Figure size 1080x360 with 1 Axes>"
      ]
     },
     "metadata": {
      "needs_background": "light"
     },
     "output_type": "display_data"
    }
   ],
   "source": [
    "plt.figure(figsize=(15,5))\n",
    "plt.xlabel(\"小時\")\n",
    "plt.ylabel(\"價格\")\n",
    "plt.grid(True)\n",
    "plt.title(f\"{df0.columns[0]}之{df2.columns[1]}圖\")\n",
    "plt.yticks(np.arange(9000,12000,5))\n",
    "plt.xticks(np.arange(0,5,0.5))\n",
    "plt.plot(np.linspace(0,4.5,3241),df2[df2.columns[1]])"
   ]
  },
  {
   "cell_type": "code",
   "execution_count": null,
   "metadata": {},
   "outputs": [],
   "source": []
  }
 ],
 "metadata": {
  "kernelspec": {
   "display_name": "Python 3",
   "language": "python",
   "name": "python3"
  },
  "language_info": {
   "codemirror_mode": {
    "name": "ipython",
    "version": 3
   },
   "file_extension": ".py",
   "mimetype": "text/x-python",
   "name": "python",
   "nbconvert_exporter": "python",
   "pygments_lexer": "ipython3",
   "version": "3.6.8"
  }
 },
 "nbformat": 4,
 "nbformat_minor": 2
}
