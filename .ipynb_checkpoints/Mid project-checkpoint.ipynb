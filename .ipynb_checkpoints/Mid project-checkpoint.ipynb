{
 "cells": [
  {
   "cell_type": "code",
   "execution_count": 1,
   "metadata": {},
   "outputs": [],
   "source": [
    "%matplotlib inline\n",
    "\n",
    "import numpy as np\n",
    "import pandas as pd \n",
    "import matplotlib.pyplot as plt\n",
    "import datetime as dt\n",
    "import twstock as ts\n",
    "import time \n",
    "import threading\n",
    "import queue\n",
    "import json\n",
    "from urllib.request import urlopen"
   ]
  },
  {
   "cell_type": "markdown",
   "metadata": {},
   "source": [
    "# 獲取4月個股占大盤比重"
   ]
  },
  {
   "cell_type": "code",
   "execution_count": 2,
   "metadata": {},
   "outputs": [],
   "source": [
    "table=pd.read_html(\"https://histock.tw/stock/taiexproportion.aspx\")\n",
    "smy=pd.concat([table[0],table[1]],axis=0)\n",
    "smy.index=range(1,len(smy)+1)\n",
    "smy=smy.drop('排行',axis=1)"
   ]
  },
  {
   "cell_type": "code",
   "execution_count": 3,
   "metadata": {},
   "outputs": [],
   "source": [
    "smy['昨收']=np.nan\n",
    "smy['現價']=np.nan"
   ]
  },
  {
   "cell_type": "code",
   "execution_count": 4,
   "metadata": {},
   "outputs": [],
   "source": [
    "codelist=list(smy.loc[:,'代號'])"
   ]
  },
  {
   "cell_type": "code",
   "execution_count": 5,
   "metadata": {},
   "outputs": [],
   "source": [
    "smy['市值佔大盤比重']=smy['市值佔大盤比重'].map(lambda x:float(x.strip('%'))) / 100"
   ]
  },
  {
   "cell_type": "code",
   "execution_count": 6,
   "metadata": {},
   "outputs": [
    {
     "data": {
      "text/html": [
       "<div>\n",
       "<style scoped>\n",
       "    .dataframe tbody tr th:only-of-type {\n",
       "        vertical-align: middle;\n",
       "    }\n",
       "\n",
       "    .dataframe tbody tr th {\n",
       "        vertical-align: top;\n",
       "    }\n",
       "\n",
       "    .dataframe thead th {\n",
       "        text-align: right;\n",
       "    }\n",
       "</style>\n",
       "<table border=\"1\" class=\"dataframe\">\n",
       "  <thead>\n",
       "    <tr style=\"text-align: right;\">\n",
       "      <th></th>\n",
       "      <th>代號</th>\n",
       "      <th>名稱</th>\n",
       "      <th>市值佔大盤比重</th>\n",
       "      <th>昨收</th>\n",
       "      <th>現價</th>\n",
       "    </tr>\n",
       "  </thead>\n",
       "  <tbody>\n",
       "    <tr>\n",
       "      <th>1</th>\n",
       "      <td>2330</td>\n",
       "      <td>台積電</td>\n",
       "      <td>0.211929</td>\n",
       "      <td>NaN</td>\n",
       "      <td>NaN</td>\n",
       "    </tr>\n",
       "    <tr>\n",
       "      <th>2</th>\n",
       "      <td>2317</td>\n",
       "      <td>鴻海</td>\n",
       "      <td>0.042131</td>\n",
       "      <td>NaN</td>\n",
       "      <td>NaN</td>\n",
       "    </tr>\n",
       "    <tr>\n",
       "      <th>3</th>\n",
       "      <td>6505</td>\n",
       "      <td>台塑化</td>\n",
       "      <td>0.037738</td>\n",
       "      <td>NaN</td>\n",
       "      <td>NaN</td>\n",
       "    </tr>\n",
       "    <tr>\n",
       "      <th>4</th>\n",
       "      <td>2412</td>\n",
       "      <td>中華電</td>\n",
       "      <td>0.029486</td>\n",
       "      <td>NaN</td>\n",
       "      <td>NaN</td>\n",
       "    </tr>\n",
       "    <tr>\n",
       "      <th>5</th>\n",
       "      <td>1301</td>\n",
       "      <td>台塑</td>\n",
       "      <td>0.022606</td>\n",
       "      <td>NaN</td>\n",
       "      <td>NaN</td>\n",
       "    </tr>\n",
       "  </tbody>\n",
       "</table>\n",
       "</div>"
      ],
      "text/plain": [
       "     代號   名稱   市值佔大盤比重  昨收  現價\n",
       "1  2330  台積電  0.211929 NaN NaN\n",
       "2  2317   鴻海  0.042131 NaN NaN\n",
       "3  6505  台塑化  0.037738 NaN NaN\n",
       "4  2412  中華電  0.029486 NaN NaN\n",
       "5  1301   台塑  0.022606 NaN NaN"
      ]
     },
     "execution_count": 6,
     "metadata": {},
     "output_type": "execute_result"
    }
   ],
   "source": [
    "smy.head()"
   ]
  },
  {
   "cell_type": "markdown",
   "metadata": {},
   "source": [
    "## 從yahoo網頁獲取(即時)現價"
   ]
  },
  {
   "cell_type": "code",
   "execution_count": 180,
   "metadata": {},
   "outputs": [],
   "source": [
    "def getnp(i):\n",
    "    tab=pd.read_html(f\"https://tw.stock.yahoo.com/q/q?s={i}\",encoding = \"big5\")\n",
    "    AD=tab[1][0][0].split()\n",
    "    smy.loc[smy.loc[smy.代號==float(i)].index,'現價']=float(AD[14])"
   ]
  },
  {
   "cell_type": "code",
   "execution_count": 23,
   "metadata": {},
   "outputs": [
    {
     "name": "stdout",
     "output_type": "stream",
     "text": [
      "前 10 間公司所需時間 23.228989431896025 秒\n",
      "前 20 間公司所需時間 15.372331873732492 秒\n",
      "前 30 間公司所需時間 21.288321318088606 秒\n",
      "前 40 間公司所需時間 30.67598976152385 秒\n",
      "前 50 間公司所需時間 28.329864626019685 秒\n"
     ]
    }
   ],
   "source": [
    "smy['現價']=np.nan\n",
    "n=0\n",
    "t0=time.clock()\n",
    "while n<50:\n",
    "    for i in codelist[n:n+10]:\n",
    "        try:\n",
    "            getnp(i)\n",
    "        except:\n",
    "            pass\n",
    "    n+=10\n",
    "    print('前',n,'間公司所需時間',time.clock()-t0,'秒')\n"
   ]
  },
  {
   "cell_type": "code",
   "execution_count": 229,
   "metadata": {},
   "outputs": [],
   "source": [
    "tab=pd.read_html(\"https://tw.stock.yahoo.com/q/q?s=2330\",encoding = \"big5\")"
   ]
  },
  {
   "cell_type": "code",
   "execution_count": 230,
   "metadata": {},
   "outputs": [
    {
     "data": {
      "text/plain": [
       "'252.0'"
      ]
     },
     "execution_count": 230,
     "metadata": {},
     "output_type": "execute_result"
    }
   ],
   "source": [
    "AD=tab[1][0][0].split()\n",
    "AD[14]"
   ]
  },
  {
   "cell_type": "code",
   "execution_count": 231,
   "metadata": {},
   "outputs": [],
   "source": [
    "AD=tab[1][0][0].split()\n",
    "AD[12]=AD[12][:-6]"
   ]
  },
  {
   "cell_type": "code",
   "execution_count": 232,
   "metadata": {},
   "outputs": [],
   "source": [
    "col_name=AD[:11]"
   ]
  },
  {
   "cell_type": "code",
   "execution_count": 233,
   "metadata": {},
   "outputs": [],
   "source": [
    "da_num=AD[12:23]"
   ]
  },
  {
   "cell_type": "code",
   "execution_count": 234,
   "metadata": {},
   "outputs": [],
   "source": [
    "df=pd.DataFrame(columns=col_name)"
   ]
  },
  {
   "cell_type": "code",
   "execution_count": 235,
   "metadata": {},
   "outputs": [],
   "source": [
    "df.loc['data']=da_num"
   ]
  },
  {
   "cell_type": "code",
   "execution_count": 236,
   "metadata": {},
   "outputs": [
    {
     "data": {
      "text/html": [
       "<div>\n",
       "<style scoped>\n",
       "    .dataframe tbody tr th:only-of-type {\n",
       "        vertical-align: middle;\n",
       "    }\n",
       "\n",
       "    .dataframe tbody tr th {\n",
       "        vertical-align: top;\n",
       "    }\n",
       "\n",
       "    .dataframe thead th {\n",
       "        text-align: right;\n",
       "    }\n",
       "</style>\n",
       "<table border=\"1\" class=\"dataframe\">\n",
       "  <thead>\n",
       "    <tr style=\"text-align: right;\">\n",
       "      <th></th>\n",
       "      <th>股票代號</th>\n",
       "      <th>時間</th>\n",
       "      <th>成交</th>\n",
       "      <th>買進</th>\n",
       "      <th>賣出</th>\n",
       "      <th>漲跌</th>\n",
       "      <th>張數</th>\n",
       "      <th>昨收</th>\n",
       "      <th>開盤</th>\n",
       "      <th>最高</th>\n",
       "      <th>最低</th>\n",
       "    </tr>\n",
       "  </thead>\n",
       "  <tbody>\n",
       "    <tr>\n",
       "      <th>data</th>\n",
       "      <td>2330台積電</td>\n",
       "      <td>13:30</td>\n",
       "      <td>252.0</td>\n",
       "      <td>252.0</td>\n",
       "      <td>252.5</td>\n",
       "      <td>▽2.0</td>\n",
       "      <td>24,853</td>\n",
       "      <td>254.0</td>\n",
       "      <td>253.0</td>\n",
       "      <td>254.0</td>\n",
       "      <td>251.5</td>\n",
       "    </tr>\n",
       "  </tbody>\n",
       "</table>\n",
       "</div>"
      ],
      "text/plain": [
       "         股票代號     時間     成交     買進     賣出    漲跌      張數     昨收     開盤     最高  \\\n",
       "data  2330台積電  13:30  252.0  252.0  252.5  ▽2.0  24,853  254.0  253.0  254.0   \n",
       "\n",
       "         最低  \n",
       "data  251.5  "
      ]
     },
     "execution_count": 236,
     "metadata": {},
     "output_type": "execute_result"
    }
   ],
   "source": [
    "df"
   ]
  },
  {
   "cell_type": "markdown",
   "metadata": {},
   "source": [
    "## 利用Market Information System的url與多線程  獲取個股昨日收盤價(昨收)"
   ]
  },
  {
   "cell_type": "code",
   "execution_count": 7,
   "metadata": {},
   "outputs": [],
   "source": [
    "def run2(self):\n",
    "    while self.qsize() > 0:\n",
    "        i = self.get()\n",
    "        if self.qsize()%100==0:\n",
    "            print(f\"剩下{self.qsize()}筆資料\")\n",
    "        try:\n",
    "#            t0=time.clock()\n",
    "            query_url = f\"http://mis.twse.com.tw/stock/api/getStockInfo.jsp?ex_ch=tse_{i}.tw&delay=0\"\n",
    "            data = json.loads(urlopen(query_url).read())\n",
    "            smy.loc[smy.loc[smy.代號==float(i)].index,'昨收']=data['msgArray'][0]['y']\n",
    "#            print(f'找{i}的昨收價花',time.clock()-t0,'秒')\n",
    "        except:\n",
    "            pass"
   ]
  },
  {
   "cell_type": "code",
   "execution_count": 8,
   "metadata": {
    "scrolled": true
   },
   "outputs": [
    {
     "name": "stdout",
     "output_type": "stream",
     "text": [
      "剩下900筆資料\n",
      "剩下800筆資料\n",
      "剩下700筆資料\n",
      "剩下600筆資料\n",
      "剩下500筆資料\n",
      "剩下400筆資料\n",
      "剩下300筆資料\n",
      "剩下200筆資料\n",
      "剩下100筆資料\n",
      "剩下0筆資料\n",
      "總共花 139.77429967290192 秒\n",
      "平均花 0.1539364533842532 秒\n"
     ]
    }
   ],
   "source": [
    "my_queue = queue.Queue()\n",
    "smy['現價']=np.nan\n",
    "for i in codelist:\n",
    "      my_queue.put(i)\n",
    "t = []\n",
    "t00=time.clock()\n",
    "le=my_queue.qsize()\n",
    "for i in range(5):\n",
    "    t.append(threading.Thread(target = run2(my_queue)))\n",
    "    t[i].start()\n",
    "for i in range(5):    \n",
    "    t[i].join()\n",
    "tt=time.clock()-t00\n",
    "print(f'總共花',tt,'秒')\n",
    "print(f'平均花',tt/le,'秒')"
   ]
  },
  {
   "cell_type": "markdown",
   "metadata": {},
   "source": [
    "## 利用twstock.realtime.get('代碼') 與多線程  獲取個股現價"
   ]
  },
  {
   "cell_type": "code",
   "execution_count": 9,
   "metadata": {},
   "outputs": [
    {
     "data": {
      "text/plain": [
       "5"
      ]
     },
     "execution_count": 9,
     "metadata": {},
     "output_type": "execute_result"
    }
   ],
   "source": [
    "threading.active_count()"
   ]
  },
  {
   "cell_type": "code",
   "execution_count": 10,
   "metadata": {},
   "outputs": [],
   "source": [
    "def run(self):\n",
    "    while self.qsize() > 0:\n",
    "        i = self.get()\n",
    "        if self.qsize()%100==0:\n",
    "            print(f\"剩下{self.qsize()}筆資料\")\n",
    "        try:\n",
    "#            t0=time.clock()\n",
    "            stock=ts.realtime.get(f'{i}')\n",
    "            stocknp=stock['realtime']['latest_trade_price']\n",
    "            smy.loc[smy.loc[smy.代號==float(i)].index,'現價']=stocknp\n",
    "#            print(f'找{i}的現價花',time.clock()-t0,'秒')\n",
    "        except:\n",
    "            pass"
   ]
  },
  {
   "cell_type": "code",
   "execution_count": 11,
   "metadata": {
    "scrolled": true
   },
   "outputs": [
    {
     "name": "stdout",
     "output_type": "stream",
     "text": [
      "剩下900筆資料\n",
      "剩下800筆資料\n",
      "剩下700筆資料\n",
      "剩下600筆資料\n",
      "剩下500筆資料\n",
      "剩下400筆資料\n",
      "剩下300筆資料\n",
      "剩下200筆資料\n",
      "剩下100筆資料\n",
      "剩下0筆資料\n",
      "總共花 1029.1763286401322 秒\n",
      "平均花 1.1334541064318637 秒\n"
     ]
    }
   ],
   "source": [
    "my_queue = queue.Queue()\n",
    "smy['現價']=np.nan\n",
    "for i in codelist:\n",
    "      my_queue.put(i)\n",
    "t = []\n",
    "t00=time.clock()\n",
    "le=my_queue.qsize()\n",
    "for i in range(5):\n",
    "    t.append(threading.Thread(target = run(my_queue)))\n",
    "    t[i].start()\n",
    "for i in range(5):    \n",
    "    t[i].join()\n",
    "tt=time.clock()-t00\n",
    "print(f'總共花',tt,'秒')\n",
    "print(f'平均花',tt/le,'秒')"
   ]
  },
  {
   "cell_type": "markdown",
   "metadata": {},
   "source": [
    "## 利用Market Information System的url 獲取加權指數昨收與現價"
   ]
  },
  {
   "cell_type": "code",
   "execution_count": 137,
   "metadata": {},
   "outputs": [],
   "source": [
    "dapen=pd.DataFrame(columns=['yc','now','time'])"
   ]
  },
  {
   "cell_type": "code",
   "execution_count": null,
   "metadata": {},
   "outputs": [],
   "source": [
    "query_url = \"http://mis.twse.com.tw/stock/api/getStockInfo.jsp?ex_ch=tse_t00.tw&json=1&delay=0&_=1554956220828\"\n",
    "data = json.loads(urlopen(query_url).read())\n",
    "dic=data['msgArray'][0]\n",
    "dapen.loc['加權指']=float(dic['y']),float(dic['z']),dic['t']\n",
    "dapen"
   ]
  },
  {
   "cell_type": "markdown",
   "metadata": {},
   "source": [
    "# 計算即時的加權指數與台指期進行比較"
   ]
  },
  {
   "cell_type": "code",
   "execution_count": 243,
   "metadata": {},
   "outputs": [
    {
     "data": {
      "text/plain": [
       "1.0452259999999987"
      ]
     },
     "execution_count": 243,
     "metadata": {},
     "output_type": "execute_result"
    }
   ],
   "source": [
    "rate_sum=0\n",
    "for i in range(1,len(smy.index)+1):\n",
    "    rate=smy.loc[i,'市值佔大盤比重']\n",
    "    rate_sum=rate_sum+rate\n",
    "rate_sum"
   ]
  },
  {
   "cell_type": "code",
   "execution_count": 244,
   "metadata": {},
   "outputs": [],
   "source": [
    "nr=smy['市值佔大盤比重'].copy()\n",
    "nr=nr/rate_sum"
   ]
  },
  {
   "cell_type": "code",
   "execution_count": 245,
   "metadata": {},
   "outputs": [],
   "source": [
    "findex=0\n",
    "smy=smy.dropna()\n",
    "smy.index=range(1,len(smy.index)+1)\n",
    "for i in range(1,len(smy.index)+1):\n",
    "    findex+=dapen.loc['加權指','yc']*(1+(float(smy.loc[i,'現價'])-float(smy.loc[i,'昨收']))/float(smy.loc[i,'昨收']))*nr[i]"
   ]
  },
  {
   "cell_type": "code",
   "execution_count": 246,
   "metadata": {},
   "outputs": [
    {
     "data": {
      "text/plain": [
       "10812.92066936183"
      ]
     },
     "execution_count": 246,
     "metadata": {},
     "output_type": "execute_result"
    }
   ],
   "source": [
    "findex"
   ]
  },
  {
   "cell_type": "code",
   "execution_count": 259,
   "metadata": {},
   "outputs": [
    {
     "data": {
      "text/html": [
       "<div>\n",
       "<style scoped>\n",
       "    .dataframe tbody tr th:only-of-type {\n",
       "        vertical-align: middle;\n",
       "    }\n",
       "\n",
       "    .dataframe tbody tr th {\n",
       "        vertical-align: top;\n",
       "    }\n",
       "\n",
       "    .dataframe thead th {\n",
       "        text-align: right;\n",
       "    }\n",
       "</style>\n",
       "<table border=\"1\" class=\"dataframe\">\n",
       "  <thead>\n",
       "    <tr style=\"text-align: right;\">\n",
       "      <th></th>\n",
       "      <th>小臺指期049</th>\n",
       "    </tr>\n",
       "  </thead>\n",
       "  <tbody>\n",
       "    <tr>\n",
       "      <th>4</th>\n",
       "      <td>成交,10806.0000,漲跌,0</td>\n",
       "    </tr>\n",
       "    <tr>\n",
       "      <th>11</th>\n",
       "      <td>時間,152139</td>\n",
       "    </tr>\n",
       "  </tbody>\n",
       "</table>\n",
       "</div>"
      ],
      "text/plain": [
       "               小臺指期049\n",
       "4   成交,10806.0000,漲跌,0\n",
       "11           時間,152139"
      ]
     },
     "execution_count": 259,
     "metadata": {},
     "output_type": "execute_result"
    }
   ],
   "source": [
    "dg=pd.read_csv(\"http://info512ah.taifex.com.tw/Future/ImgChartDetail.ashx?type=1&contract=MTX049\",encoding='big5',\n",
    "               sep='delimiter',engine='python')\n",
    "dg.loc[[4,11]]"
   ]
  }
 ],
 "metadata": {
  "kernelspec": {
   "display_name": "Python 3",
   "language": "python",
   "name": "python3"
  },
  "language_info": {
   "codemirror_mode": {
    "name": "ipython",
    "version": 3
   },
   "file_extension": ".py",
   "mimetype": "text/x-python",
   "name": "python",
   "nbconvert_exporter": "python",
   "pygments_lexer": "ipython3",
   "version": "3.6.8"
  }
 },
 "nbformat": 4,
 "nbformat_minor": 2
}
