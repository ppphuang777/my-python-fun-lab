{
 "cells": [
  {
   "cell_type": "code",
   "execution_count": 1,
   "metadata": {},
   "outputs": [],
   "source": [
    "%matplotlib inline\n",
    "\n",
    "import numpy as np\n",
    "import pandas as pd\n",
    "import matplotlib.pyplot as plt\n",
    "import locale"
   ]
  },
  {
   "cell_type": "code",
   "execution_count": 19,
   "metadata": {},
   "outputs": [],
   "source": [
    "df=pd.read_csv(f\"http://www.twse.com.tw/indicesReport/MI_5MINS_HIST?response=csv&date=20190201\",encoding='Big5')"
   ]
  },
  {
   "cell_type": "code",
   "execution_count": 20,
   "metadata": {},
   "outputs": [
    {
     "data": {
      "text/html": [
       "<div>\n",
       "<style scoped>\n",
       "    .dataframe tbody tr th:only-of-type {\n",
       "        vertical-align: middle;\n",
       "    }\n",
       "\n",
       "    .dataframe tbody tr th {\n",
       "        vertical-align: top;\n",
       "    }\n",
       "\n",
       "    .dataframe thead th {\n",
       "        text-align: right;\n",
       "    }\n",
       "</style>\n",
       "<table border=\"1\" class=\"dataframe\">\n",
       "  <thead>\n",
       "    <tr style=\"text-align: right;\">\n",
       "      <th></th>\n",
       "      <th></th>\n",
       "      <th></th>\n",
       "      <th></th>\n",
       "      <th></th>\n",
       "      <th>108年02月 發行量加權股價指數歷史資料</th>\n",
       "    </tr>\n",
       "  </thead>\n",
       "  <tbody>\n",
       "    <tr>\n",
       "      <th>日期</th>\n",
       "      <th>開盤指數</th>\n",
       "      <th>最高指數</th>\n",
       "      <th>最低指數</th>\n",
       "      <th>收盤指數</th>\n",
       "      <td>NaN</td>\n",
       "    </tr>\n",
       "    <tr>\n",
       "      <th>108/02/11</th>\n",
       "      <th>10,029.84</th>\n",
       "      <th>10,065.52</th>\n",
       "      <th>9,988.83</th>\n",
       "      <th>10,004.25</th>\n",
       "      <td>NaN</td>\n",
       "    </tr>\n",
       "    <tr>\n",
       "      <th>108/02/12</th>\n",
       "      <th>10,032.08</th>\n",
       "      <th>10,100.23</th>\n",
       "      <th>10,032.08</th>\n",
       "      <th>10,097.74</th>\n",
       "      <td>NaN</td>\n",
       "    </tr>\n",
       "    <tr>\n",
       "      <th>108/02/13</th>\n",
       "      <th>10,123.61</th>\n",
       "      <th>10,140.98</th>\n",
       "      <th>10,074.34</th>\n",
       "      <th>10,090.58</th>\n",
       "      <td>NaN</td>\n",
       "    </tr>\n",
       "    <tr>\n",
       "      <th>108/02/14</th>\n",
       "      <th>10,095.99</th>\n",
       "      <th>10,135.62</th>\n",
       "      <th>10,082.00</th>\n",
       "      <th>10,089.01</th>\n",
       "      <td>NaN</td>\n",
       "    </tr>\n",
       "    <tr>\n",
       "      <th>108/02/15</th>\n",
       "      <th>10,111.18</th>\n",
       "      <th>10,135.16</th>\n",
       "      <th>10,055.50</th>\n",
       "      <th>10,064.78</th>\n",
       "      <td>NaN</td>\n",
       "    </tr>\n",
       "    <tr>\n",
       "      <th>108/02/18</th>\n",
       "      <th>10,096.94</th>\n",
       "      <th>10,165.77</th>\n",
       "      <th>10,096.94</th>\n",
       "      <th>10,145.28</th>\n",
       "      <td>NaN</td>\n",
       "    </tr>\n",
       "    <tr>\n",
       "      <th>108/02/19</th>\n",
       "      <th>10,152.11</th>\n",
       "      <th>10,173.47</th>\n",
       "      <th>10,143.15</th>\n",
       "      <th>10,152.26</th>\n",
       "      <td>NaN</td>\n",
       "    </tr>\n",
       "    <tr>\n",
       "      <th>108/02/20</th>\n",
       "      <th>10,181.94</th>\n",
       "      <th>10,272.46</th>\n",
       "      <th>10,181.94</th>\n",
       "      <th>10,272.46</th>\n",
       "      <td>NaN</td>\n",
       "    </tr>\n",
       "    <tr>\n",
       "      <th>108/02/21</th>\n",
       "      <th>10,282.32</th>\n",
       "      <th>10,319.53</th>\n",
       "      <th>10,256.53</th>\n",
       "      <th>10,319.53</th>\n",
       "      <td>NaN</td>\n",
       "    </tr>\n",
       "    <tr>\n",
       "      <th>108/02/22</th>\n",
       "      <th>10,309.02</th>\n",
       "      <th>10,322.92</th>\n",
       "      <th>10,269.95</th>\n",
       "      <th>10,322.92</th>\n",
       "      <td>NaN</td>\n",
       "    </tr>\n",
       "    <tr>\n",
       "      <th>108/02/25</th>\n",
       "      <th>10,343.45</th>\n",
       "      <th>10,390.93</th>\n",
       "      <th>10,343.45</th>\n",
       "      <th>10,390.93</th>\n",
       "      <td>NaN</td>\n",
       "    </tr>\n",
       "    <tr>\n",
       "      <th>108/02/26</th>\n",
       "      <th>10,403.03</th>\n",
       "      <th>10,416.91</th>\n",
       "      <th>10,368.86</th>\n",
       "      <th>10,391.55</th>\n",
       "      <td>NaN</td>\n",
       "    </tr>\n",
       "    <tr>\n",
       "      <th>108/02/27</th>\n",
       "      <th>10,385.81</th>\n",
       "      <th>10,403.05</th>\n",
       "      <th>10,343.56</th>\n",
       "      <th>10,389.17</th>\n",
       "      <td>NaN</td>\n",
       "    </tr>\n",
       "  </tbody>\n",
       "</table>\n",
       "</div>"
      ],
      "text/plain": [
       "                                                   108年02月 發行量加權股價指數歷史資料\n",
       "日期        開盤指數      最高指數      最低指數      收盤指數                         NaN\n",
       "108/02/11 10,029.84 10,065.52 9,988.83  10,004.25                    NaN\n",
       "108/02/12 10,032.08 10,100.23 10,032.08 10,097.74                    NaN\n",
       "108/02/13 10,123.61 10,140.98 10,074.34 10,090.58                    NaN\n",
       "108/02/14 10,095.99 10,135.62 10,082.00 10,089.01                    NaN\n",
       "108/02/15 10,111.18 10,135.16 10,055.50 10,064.78                    NaN\n",
       "108/02/18 10,096.94 10,165.77 10,096.94 10,145.28                    NaN\n",
       "108/02/19 10,152.11 10,173.47 10,143.15 10,152.26                    NaN\n",
       "108/02/20 10,181.94 10,272.46 10,181.94 10,272.46                    NaN\n",
       "108/02/21 10,282.32 10,319.53 10,256.53 10,319.53                    NaN\n",
       "108/02/22 10,309.02 10,322.92 10,269.95 10,322.92                    NaN\n",
       "108/02/25 10,343.45 10,390.93 10,343.45 10,390.93                    NaN\n",
       "108/02/26 10,403.03 10,416.91 10,368.86 10,391.55                    NaN\n",
       "108/02/27 10,385.81 10,403.05 10,343.56 10,389.17                    NaN"
      ]
     },
     "execution_count": 20,
     "metadata": {},
     "output_type": "execute_result"
    }
   ],
   "source": [
    "df"
   ]
  },
  {
   "cell_type": "code",
   "execution_count": 90,
   "metadata": {},
   "outputs": [
    {
     "name": "stdout",
     "output_type": "stream",
     "text": [
      "20190301\n",
      "no data\n",
      "20190302\n",
      "no data\n",
      "20190303\n",
      "no data\n",
      "20190304\n",
      "success\n",
      "20190305\n",
      "success\n",
      "20190306\n",
      "success\n",
      "20190307\n",
      "success\n",
      "20190308\n",
      "success\n",
      "20190309\n",
      "no data\n",
      "20190310\n",
      "no data\n",
      "20190311\n",
      "success\n",
      "20190312\n",
      "success\n",
      "20190313\n",
      "success\n",
      "20190314\n",
      "success\n",
      "20190315\n",
      "success\n",
      "20190316\n",
      "no data\n",
      "20190317\n",
      "no data\n",
      "20190318\n",
      "success\n",
      "20190319\n",
      "success\n",
      "20190320\n",
      "success\n",
      "20190321\n",
      "success\n",
      "20190322\n",
      "no data\n",
      "END\n"
     ]
    }
   ],
   "source": [
    "h=[]\n",
    "l=[]\n",
    "\n",
    "o=[]\n",
    "om=[]\n",
    "fm=[]\n",
    "thtym=[]\n",
    "c=[]\n",
    "\n",
    "date=[]\n",
    "day=range(20190301,20190323)\n",
    "for d in day:\n",
    "    print(d)\n",
    "    try:\n",
    "        df=pd.read_csv(f\"http://www.twse.com.tw/exchangeReport/MI_5MINS_INDEX?response=csv&date={d}\",encoding='Big5')\n",
    "    except:\n",
    "        print('no data')\n",
    "    else:\n",
    "        df=pd.read_csv(f\"http://www.twse.com.tw/exchangeReport/MI_5MINS_INDEX?response=csv&date={d}\",encoding='Big5')\n",
    "        date.append(d)\n",
    "        o.append(df.index[2][1])\n",
    "        om.append(df.index[13][1])\n",
    "        fm.append(df.index[61][1])\n",
    "        thtym.append(df.index[361][1])\n",
    "        c.append(df.index[3241][1])\n",
    "        print('success')\n",
    "print(\"END\")"
   ]
  },
  {
   "cell_type": "code",
   "execution_count": 91,
   "metadata": {
    "scrolled": true
   },
   "outputs": [],
   "source": [
    "for i in range(len(o)):\n",
    "    o[i]=float(o[i].replace(\",\",\"\"))\n",
    "    c[i]=float(c[i].replace(\",\",\"\"))\n",
    "    om[i]=float(om[i].replace(\",\",\"\"))\n",
    "    fm[i]=float(fm[i].replace(\",\",\"\"))\n",
    "    thtym[i]=float(thtym[i].replace(\",\",\"\"))"
   ]
  },
  {
   "cell_type": "code",
   "execution_count": 133,
   "metadata": {},
   "outputs": [
    {
     "data": {
      "text/plain": [
       "'10,576.83'"
      ]
     },
     "execution_count": 133,
     "metadata": {},
     "output_type": "execute_result"
    }
   ],
   "source": [
    "df.index[61][1]"
   ]
  },
  {
   "cell_type": "code",
   "execution_count": 103,
   "metadata": {},
   "outputs": [
    {
     "data": {
      "text/plain": [
       "[10356.3,\n",
       " 10329.12,\n",
       " 10345.24,\n",
       " 10346.45,\n",
       " 10223.84,\n",
       " 10254.59,\n",
       " 10346.95,\n",
       " 10356.89,\n",
       " 10388.18,\n",
       " 10385.0,\n",
       " 10452.61,\n",
       " 10499.9,\n",
       " 10533.82,\n",
       " 10555.06]"
      ]
     },
     "execution_count": 103,
     "metadata": {},
     "output_type": "execute_result"
    }
   ],
   "source": [
    "thtym"
   ]
  },
  {
   "cell_type": "code",
   "execution_count": 119,
   "metadata": {},
   "outputs": [
    {
     "data": {
      "text/plain": [
       "[10349.88,\n",
       " 10305.26,\n",
       " 10357.15,\n",
       " 10311.68,\n",
       " 10241.75,\n",
       " 10250.28,\n",
       " 10343.33,\n",
       " 10373.32,\n",
       " 10348.65,\n",
       " 10439.24,\n",
       " 10512.7,\n",
       " 10512.32,\n",
       " 10551.56,\n",
       " 10609.55]"
      ]
     },
     "execution_count": 119,
     "metadata": {},
     "output_type": "execute_result"
    }
   ],
   "source": [
    "c"
   ]
  },
  {
   "cell_type": "code",
   "execution_count": 110,
   "metadata": {},
   "outputs": [
    {
     "data": {
      "text/plain": [
       "False"
      ]
     },
     "execution_count": 110,
     "metadata": {},
     "output_type": "execute_result"
    }
   ],
   "source": [
    "thtym[i+1]>om[i+1]"
   ]
  },
  {
   "cell_type": "code",
   "execution_count": 139,
   "metadata": {},
   "outputs": [
    {
     "name": "stdout",
     "output_type": "stream",
     "text": [
      "20190311\n"
     ]
    }
   ],
   "source": [
    "t=0\n",
    "all=0\n",
    "for i in range(len(o)-1):\n",
    "    if om[i+1]>c[i]*1.005:\n",
    "        all+=1\n",
    "        if thtym[i+1]>om[i+1]:\n",
    "            t+=1\n",
    "            print(date[i])\n",
    "    else:\n",
    "        pass"
   ]
  },
  {
   "cell_type": "code",
   "execution_count": 140,
   "metadata": {},
   "outputs": [
    {
     "data": {
      "text/plain": [
       "1"
      ]
     },
     "execution_count": 140,
     "metadata": {},
     "output_type": "execute_result"
    }
   ],
   "source": [
    "all"
   ]
  },
  {
   "cell_type": "code",
   "execution_count": 141,
   "metadata": {},
   "outputs": [
    {
     "data": {
      "text/plain": [
       "1"
      ]
     },
     "execution_count": 141,
     "metadata": {},
     "output_type": "execute_result"
    }
   ],
   "source": [
    "t"
   ]
  },
  {
   "cell_type": "code",
   "execution_count": null,
   "metadata": {},
   "outputs": [],
   "source": [
    "for i in range(len(df2[df2.columns[1]])):\n",
    "    df2.loc[:,df2.columns[1]][i]=df2.loc[:,df2.columns[1]].values[i].replace(\",\",\"\")\n",
    "\n",
    "locale.setlocale(locale.LC_NUMERIC,\"\")\n",
    "\n",
    "df2[df2.columns[1]]=df2[df2.columns[1]].apply(locale.atof)\n",
    "\n",
    "import matplotlib as mpl\n",
    "\n",
    "mpl.rc('font',family='SimHei')\n",
    "\n",
    "plt.figure(figsize=(15,5))\n",
    "plt.xlabel(\"小時\")\n",
    "plt.ylabel(\"價格\")\n",
    "plt.grid(True)\n",
    "plt.title(f\"{df0.columns[0]}之{df2.columns[1]}圖\")\n",
    "plt.yticks(np.arange(9000,12000,5))\n",
    "plt.xticks(np.arange(0,5,0.5))\n",
    "plt.plot(np.linspace(0,4.5,3241),df2[df2.columns[1]])"
   ]
  }
 ],
 "metadata": {
  "kernelspec": {
   "display_name": "Python 3",
   "language": "python",
   "name": "python3"
  },
  "language_info": {
   "codemirror_mode": {
    "name": "ipython",
    "version": 3
   },
   "file_extension": ".py",
   "mimetype": "text/x-python",
   "name": "python",
   "nbconvert_exporter": "python",
   "pygments_lexer": "ipython3",
   "version": "3.6.8"
  }
 },
 "nbformat": 4,
 "nbformat_minor": 2
}
