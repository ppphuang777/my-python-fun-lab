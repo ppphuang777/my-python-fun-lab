{
 "cells": [
  {
   "cell_type": "code",
   "execution_count": 72,
   "metadata": {},
   "outputs": [],
   "source": [
    "%matplotlib inline\n",
    "\n",
    "import numpy as np\n",
    "import pandas as pd \n",
    "import matplotlib.pyplot as plt\n",
    "import datetime as dt"
   ]
  },
  {
   "cell_type": "code",
   "execution_count": 73,
   "metadata": {},
   "outputs": [],
   "source": [
    "df=pd.DataFrame()\n",
    "for u in range(1,4):\n",
    "    u='%02d'%u\n",
    "    l=pd.read_html(f\"https://e-service.cwb.gov.tw/HistoryDataQuery/MonthDataController.do?command=viewMain&station=466920&stname=%25E8%2587%25BA%25E5%258C%2597&datepicker=2019-{u}#\",\n",
    "                   encoding = \"utf-8\")\n",
    "    if '...' != pd.DataFrame(l[1]).iloc[0,1]:\n",
    "        df=pd.concat([df,pd.DataFrame(l[1])],axis=0)    "
   ]
  },
  {
   "cell_type": "code",
   "execution_count": 74,
   "metadata": {},
   "outputs": [],
   "source": [
    "for i in range(len(df.columns)):\n",
    "    if '氣溫(℃)' in df.columns[i]:\n",
    "        t=i\n",
    "    elif '相對溼度(%)' in df.columns[i]:\n",
    "        rw=i\n",
    "    elif '降水時數(hr)' in df.columns[i]:\n",
    "        wq=i\n",
    "    elif 'StnPresMaxTime' in df.columns[i]:\n",
    "        tm=i"
   ]
  },
  {
   "cell_type": "code",
   "execution_count": 75,
   "metadata": {},
   "outputs": [],
   "source": [
    "df2=df.iloc[:,[tm,t,rw,wq]]"
   ]
  },
  {
   "cell_type": "code",
   "execution_count": 76,
   "metadata": {},
   "outputs": [],
   "source": [
    "df2.columns=['date','氣溫','相對溼度','降水時數']"
   ]
  },
  {
   "cell_type": "code",
   "execution_count": 77,
   "metadata": {},
   "outputs": [],
   "source": [
    "df2.index=range(len(df2.index))"
   ]
  },
  {
   "cell_type": "code",
   "execution_count": 79,
   "metadata": {},
   "outputs": [
    {
     "name": "stderr",
     "output_type": "stream",
     "text": [
      "C:\\Users\\Po-Lun Huang\\Anaconda3\\lib\\site-packages\\ipykernel_launcher.py:1: SettingWithCopyWarning: \n",
      "A value is trying to be set on a copy of a slice from a DataFrame.\n",
      "Try using .loc[row_indexer,col_indexer] = value instead\n",
      "\n",
      "See the caveats in the documentation: http://pandas.pydata.org/pandas-docs/stable/indexing.html#indexing-view-versus-copy\n",
      "  \"\"\"Entry point for launching an IPython kernel.\n",
      "C:\\Users\\Po-Lun Huang\\Anaconda3\\lib\\site-packages\\ipykernel_launcher.py:3: SettingWithCopyWarning: \n",
      "A value is trying to be set on a copy of a slice from a DataFrame\n",
      "\n",
      "See the caveats in the documentation: http://pandas.pydata.org/pandas-docs/stable/indexing.html#indexing-view-versus-copy\n",
      "  This is separate from the ipykernel package so we can avoid doing imports until\n"
     ]
    }
   ],
   "source": [
    "df2['溫差']=np.nan\n",
    "for i in range(1,len(df2.index)-1):\n",
    "    df2['溫差'][i]=float(df2['氣溫'][i])-float(df2['氣溫'][i-1])"
   ]
  },
  {
   "cell_type": "code",
   "execution_count": 80,
   "metadata": {},
   "outputs": [],
   "source": [
    "df2.index=pd.to_datetime(df2.loc[:,'date']).dt.date"
   ]
  },
  {
   "cell_type": "code",
   "execution_count": 81,
   "metadata": {},
   "outputs": [],
   "source": [
    "df2.drop('date',axis=1,inplace=True)"
   ]
  },
  {
   "cell_type": "code",
   "execution_count": 82,
   "metadata": {},
   "outputs": [],
   "source": [
    "import pandas_datareader.data as web"
   ]
  },
  {
   "cell_type": "code",
   "execution_count": 83,
   "metadata": {},
   "outputs": [],
   "source": [
    "dg = web.DataReader(\"^TWII\",\"yahoo\",start=\"2019-1-1\",end=\"2019-3-31\")"
   ]
  },
  {
   "cell_type": "code",
   "execution_count": 84,
   "metadata": {},
   "outputs": [
    {
     "name": "stderr",
     "output_type": "stream",
     "text": [
      "C:\\Users\\Po-Lun Huang\\Anaconda3\\lib\\site-packages\\ipykernel_launcher.py:3: SettingWithCopyWarning: \n",
      "A value is trying to be set on a copy of a slice from a DataFrame\n",
      "\n",
      "See the caveats in the documentation: http://pandas.pydata.org/pandas-docs/stable/indexing.html#indexing-view-versus-copy\n",
      "  This is separate from the ipykernel package so we can avoid doing imports until\n"
     ]
    }
   ],
   "source": [
    "dg['漲跌']=np.nan\n",
    "for i in range(1,len(dg.index)-1):\n",
    "    dg['漲跌'][i]=dg.Close[i]-dg.Close[i-1]"
   ]
  },
  {
   "cell_type": "code",
   "execution_count": 85,
   "metadata": {},
   "outputs": [],
   "source": [
    "dg['震幅']=dg.High-dg.Low"
   ]
  },
  {
   "cell_type": "code",
   "execution_count": 86,
   "metadata": {},
   "outputs": [],
   "source": [
    "dfg=df2.add(dg,fill_value=0)\n",
    "dfg.dropna(inplace=True)"
   ]
  },
  {
   "cell_type": "code",
   "execution_count": 87,
   "metadata": {
    "scrolled": true
   },
   "outputs": [
    {
     "data": {
      "text/html": [
       "<div>\n",
       "<style scoped>\n",
       "    .dataframe tbody tr th:only-of-type {\n",
       "        vertical-align: middle;\n",
       "    }\n",
       "\n",
       "    .dataframe tbody tr th {\n",
       "        vertical-align: top;\n",
       "    }\n",
       "\n",
       "    .dataframe thead th {\n",
       "        text-align: right;\n",
       "    }\n",
       "</style>\n",
       "<table border=\"1\" class=\"dataframe\">\n",
       "  <thead>\n",
       "    <tr style=\"text-align: right;\">\n",
       "      <th></th>\n",
       "      <th>Adj Close</th>\n",
       "      <th>Close</th>\n",
       "      <th>High</th>\n",
       "      <th>Low</th>\n",
       "      <th>Open</th>\n",
       "      <th>Volume</th>\n",
       "      <th>氣溫</th>\n",
       "      <th>溫差</th>\n",
       "      <th>漲跌</th>\n",
       "      <th>相對溼度</th>\n",
       "      <th>降水時數</th>\n",
       "      <th>震幅</th>\n",
       "    </tr>\n",
       "  </thead>\n",
       "  <tbody>\n",
       "    <tr>\n",
       "      <th>Adj Close</th>\n",
       "      <td>1.000000</td>\n",
       "      <td>1.000000</td>\n",
       "      <td>0.998036</td>\n",
       "      <td>0.995526</td>\n",
       "      <td>0.990485</td>\n",
       "      <td>0.633683</td>\n",
       "      <td>0.285939</td>\n",
       "      <td>-0.114135</td>\n",
       "      <td>0.077484</td>\n",
       "      <td>-0.113707</td>\n",
       "      <td>0.012281</td>\n",
       "      <td>-0.255867</td>\n",
       "    </tr>\n",
       "    <tr>\n",
       "      <th>Close</th>\n",
       "      <td>1.000000</td>\n",
       "      <td>1.000000</td>\n",
       "      <td>0.998036</td>\n",
       "      <td>0.995526</td>\n",
       "      <td>0.990485</td>\n",
       "      <td>0.633683</td>\n",
       "      <td>0.285939</td>\n",
       "      <td>-0.114135</td>\n",
       "      <td>0.077484</td>\n",
       "      <td>-0.113707</td>\n",
       "      <td>0.012281</td>\n",
       "      <td>-0.255867</td>\n",
       "    </tr>\n",
       "    <tr>\n",
       "      <th>High</th>\n",
       "      <td>0.998036</td>\n",
       "      <td>0.998036</td>\n",
       "      <td>1.000000</td>\n",
       "      <td>0.997221</td>\n",
       "      <td>0.994970</td>\n",
       "      <td>0.638345</td>\n",
       "      <td>0.272396</td>\n",
       "      <td>-0.123975</td>\n",
       "      <td>0.040787</td>\n",
       "      <td>-0.100484</td>\n",
       "      <td>0.027849</td>\n",
       "      <td>-0.252949</td>\n",
       "    </tr>\n",
       "    <tr>\n",
       "      <th>Low</th>\n",
       "      <td>0.995526</td>\n",
       "      <td>0.995526</td>\n",
       "      <td>0.997221</td>\n",
       "      <td>1.000000</td>\n",
       "      <td>0.997168</td>\n",
       "      <td>0.609205</td>\n",
       "      <td>0.258728</td>\n",
       "      <td>-0.122126</td>\n",
       "      <td>0.011349</td>\n",
       "      <td>-0.110623</td>\n",
       "      <td>0.035970</td>\n",
       "      <td>-0.324323</td>\n",
       "    </tr>\n",
       "    <tr>\n",
       "      <th>Open</th>\n",
       "      <td>0.990485</td>\n",
       "      <td>0.990485</td>\n",
       "      <td>0.994970</td>\n",
       "      <td>0.997168</td>\n",
       "      <td>1.000000</td>\n",
       "      <td>0.610256</td>\n",
       "      <td>0.254203</td>\n",
       "      <td>-0.124655</td>\n",
       "      <td>-0.045265</td>\n",
       "      <td>-0.097973</td>\n",
       "      <td>0.046192</td>\n",
       "      <td>-0.316124</td>\n",
       "    </tr>\n",
       "    <tr>\n",
       "      <th>Volume</th>\n",
       "      <td>0.633683</td>\n",
       "      <td>0.633683</td>\n",
       "      <td>0.638345</td>\n",
       "      <td>0.609205</td>\n",
       "      <td>0.610256</td>\n",
       "      <td>1.000000</td>\n",
       "      <td>0.230568</td>\n",
       "      <td>-0.203610</td>\n",
       "      <td>0.234582</td>\n",
       "      <td>0.178647</td>\n",
       "      <td>-0.072439</td>\n",
       "      <td>0.193918</td>\n",
       "    </tr>\n",
       "    <tr>\n",
       "      <th>氣溫</th>\n",
       "      <td>0.285939</td>\n",
       "      <td>0.285939</td>\n",
       "      <td>0.272396</td>\n",
       "      <td>0.258728</td>\n",
       "      <td>0.254203</td>\n",
       "      <td>0.230568</td>\n",
       "      <td>1.000000</td>\n",
       "      <td>0.427210</td>\n",
       "      <td>0.165422</td>\n",
       "      <td>-0.281429</td>\n",
       "      <td>-0.555672</td>\n",
       "      <td>0.098775</td>\n",
       "    </tr>\n",
       "    <tr>\n",
       "      <th>溫差</th>\n",
       "      <td>-0.114135</td>\n",
       "      <td>-0.114135</td>\n",
       "      <td>-0.123975</td>\n",
       "      <td>-0.122126</td>\n",
       "      <td>-0.124655</td>\n",
       "      <td>-0.203610</td>\n",
       "      <td>0.427210</td>\n",
       "      <td>1.000000</td>\n",
       "      <td>-0.003477</td>\n",
       "      <td>-0.336191</td>\n",
       "      <td>-0.483077</td>\n",
       "      <td>0.011828</td>\n",
       "    </tr>\n",
       "    <tr>\n",
       "      <th>漲跌</th>\n",
       "      <td>0.077484</td>\n",
       "      <td>0.077484</td>\n",
       "      <td>0.040787</td>\n",
       "      <td>0.011349</td>\n",
       "      <td>-0.045265</td>\n",
       "      <td>0.234582</td>\n",
       "      <td>0.165422</td>\n",
       "      <td>-0.003477</td>\n",
       "      <td>1.000000</td>\n",
       "      <td>-0.112583</td>\n",
       "      <td>-0.290398</td>\n",
       "      <td>0.370502</td>\n",
       "    </tr>\n",
       "    <tr>\n",
       "      <th>相對溼度</th>\n",
       "      <td>-0.113707</td>\n",
       "      <td>-0.113707</td>\n",
       "      <td>-0.100484</td>\n",
       "      <td>-0.110623</td>\n",
       "      <td>-0.097973</td>\n",
       "      <td>0.178647</td>\n",
       "      <td>-0.281429</td>\n",
       "      <td>-0.336191</td>\n",
       "      <td>-0.112583</td>\n",
       "      <td>1.000000</td>\n",
       "      <td>0.606040</td>\n",
       "      <td>0.160717</td>\n",
       "    </tr>\n",
       "    <tr>\n",
       "      <th>降水時數</th>\n",
       "      <td>0.012281</td>\n",
       "      <td>0.012281</td>\n",
       "      <td>0.027849</td>\n",
       "      <td>0.035970</td>\n",
       "      <td>0.046192</td>\n",
       "      <td>-0.072439</td>\n",
       "      <td>-0.555672</td>\n",
       "      <td>-0.483077</td>\n",
       "      <td>-0.290398</td>\n",
       "      <td>0.606040</td>\n",
       "      <td>1.000000</td>\n",
       "      <td>-0.113509</td>\n",
       "    </tr>\n",
       "    <tr>\n",
       "      <th>震幅</th>\n",
       "      <td>-0.255867</td>\n",
       "      <td>-0.255867</td>\n",
       "      <td>-0.252949</td>\n",
       "      <td>-0.324323</td>\n",
       "      <td>-0.316124</td>\n",
       "      <td>0.193918</td>\n",
       "      <td>0.098775</td>\n",
       "      <td>0.011828</td>\n",
       "      <td>0.370502</td>\n",
       "      <td>0.160717</td>\n",
       "      <td>-0.113509</td>\n",
       "      <td>1.000000</td>\n",
       "    </tr>\n",
       "  </tbody>\n",
       "</table>\n",
       "</div>"
      ],
      "text/plain": [
       "           Adj Close     Close      High       Low      Open    Volume  \\\n",
       "Adj Close   1.000000  1.000000  0.998036  0.995526  0.990485  0.633683   \n",
       "Close       1.000000  1.000000  0.998036  0.995526  0.990485  0.633683   \n",
       "High        0.998036  0.998036  1.000000  0.997221  0.994970  0.638345   \n",
       "Low         0.995526  0.995526  0.997221  1.000000  0.997168  0.609205   \n",
       "Open        0.990485  0.990485  0.994970  0.997168  1.000000  0.610256   \n",
       "Volume      0.633683  0.633683  0.638345  0.609205  0.610256  1.000000   \n",
       "氣溫          0.285939  0.285939  0.272396  0.258728  0.254203  0.230568   \n",
       "溫差         -0.114135 -0.114135 -0.123975 -0.122126 -0.124655 -0.203610   \n",
       "漲跌          0.077484  0.077484  0.040787  0.011349 -0.045265  0.234582   \n",
       "相對溼度       -0.113707 -0.113707 -0.100484 -0.110623 -0.097973  0.178647   \n",
       "降水時數        0.012281  0.012281  0.027849  0.035970  0.046192 -0.072439   \n",
       "震幅         -0.255867 -0.255867 -0.252949 -0.324323 -0.316124  0.193918   \n",
       "\n",
       "                 氣溫        溫差        漲跌      相對溼度      降水時數        震幅  \n",
       "Adj Close  0.285939 -0.114135  0.077484 -0.113707  0.012281 -0.255867  \n",
       "Close      0.285939 -0.114135  0.077484 -0.113707  0.012281 -0.255867  \n",
       "High       0.272396 -0.123975  0.040787 -0.100484  0.027849 -0.252949  \n",
       "Low        0.258728 -0.122126  0.011349 -0.110623  0.035970 -0.324323  \n",
       "Open       0.254203 -0.124655 -0.045265 -0.097973  0.046192 -0.316124  \n",
       "Volume     0.230568 -0.203610  0.234582  0.178647 -0.072439  0.193918  \n",
       "氣溫         1.000000  0.427210  0.165422 -0.281429 -0.555672  0.098775  \n",
       "溫差         0.427210  1.000000 -0.003477 -0.336191 -0.483077  0.011828  \n",
       "漲跌         0.165422 -0.003477  1.000000 -0.112583 -0.290398  0.370502  \n",
       "相對溼度      -0.281429 -0.336191 -0.112583  1.000000  0.606040  0.160717  \n",
       "降水時數      -0.555672 -0.483077 -0.290398  0.606040  1.000000 -0.113509  \n",
       "震幅         0.098775  0.011828  0.370502  0.160717 -0.113509  1.000000  "
      ]
     },
     "execution_count": 87,
     "metadata": {},
     "output_type": "execute_result"
    }
   ],
   "source": [
    "dfg.corr()"
   ]
  },
  {
   "cell_type": "code",
   "execution_count": 88,
   "metadata": {},
   "outputs": [
    {
     "data": {
      "text/plain": [
       "<matplotlib.axes._subplots.AxesSubplot at 0x229d36ca080>"
      ]
     },
     "execution_count": 88,
     "metadata": {},
     "output_type": "execute_result"
    },
    {
     "data": {
      "image/png": "[encoded data removed]",
      "text/plain": [
       "<Figure size 432x288 with 1 Axes>"
      ]
     },
     "metadata": {
      "needs_background": "light"
     },
     "output_type": "display_data"
    }
   ],
   "source": [
    "dfg.溫差.plot()"
   ]
  },
  {
   "cell_type": "code",
   "execution_count": 89,
   "metadata": {},
   "outputs": [
    {
     "data": {
      "text/plain": [
       "<matplotlib.axes._subplots.AxesSubplot at 0x229d3afc8d0>"
      ]
     },
     "execution_count": 89,
     "metadata": {},
     "output_type": "execute_result"
    },
    {
     "data": {
      "image/png": "[encoded data removed]",
      "text/plain": [
       "<Figure size 432x288 with 1 Axes>"
      ]
     },
     "metadata": {
      "needs_background": "light"
     },
     "output_type": "display_data"
    }
   ],
   "source": [
    "dfg.漲跌.plot()"
   ]
  },
  {
   "cell_type": "code",
   "execution_count": 90,
   "metadata": {},
   "outputs": [],
   "source": [
    "dfg=dfg[['溫差','漲跌']]"
   ]
  },
  {
   "cell_type": "code",
   "execution_count": 92,
   "metadata": {},
   "outputs": [],
   "source": [
    "x=np.array(dfg.溫差)\n",
    "y=np.array(dfg.漲跌)"
   ]
  },
  {
   "cell_type": "code",
   "execution_count": 93,
   "metadata": {},
   "outputs": [
    {
     "data": {
      "text/plain": [
       "<matplotlib.collections.PathCollection at 0x229d4c66438>"
      ]
     },
     "execution_count": 93,
     "metadata": {},
     "output_type": "execute_result"
    },
    {
     "data": {
      "image/png": "[encoded data removed]",
      "text/plain": [
       "<Figure size 432x288 with 1 Axes>"
      ]
     },
     "metadata": {
      "needs_background": "light"
     },
     "output_type": "display_data"
    }
   ],
   "source": [
    "plt.scatter(x,y)"
   ]
  },
  {
   "cell_type": "code",
   "execution_count": 104,
   "metadata": {},
   "outputs": [
    {
     "data": {
      "text/plain": [
       "LinearRegression(copy_X=True, fit_intercept=True, n_jobs=None,\n",
       "         normalize=False)"
      ]
     },
     "execution_count": 104,
     "metadata": {},
     "output_type": "execute_result"
    }
   ],
   "source": [
    "from sklearn.model_selection import train_test_split\n",
    "\n",
    "x_train,x_test,y_train,y_test = train_test_split(x,y,test_size=0.2,random_state=87)\n",
    "\n",
    "x_train=x_train.reshape(len(x_train),1)\n",
    "\n",
    "x_test.shape=(len(x_test),1)\n",
    "\n",
    "from sklearn.linear_model import LinearRegression\n",
    "\n",
    "regr=LinearRegression()\n",
    "\n",
    "regr.fit(x_train,y_train)"
   ]
  },
  {
   "cell_type": "code",
   "execution_count": 105,
   "metadata": {},
   "outputs": [
    {
     "data": {
      "text/plain": [
       "[<matplotlib.lines.Line2D at 0x229d7106da0>]"
      ]
     },
     "execution_count": 105,
     "metadata": {},
     "output_type": "execute_result"
    },
    {
     "data": {
      "image/png": "[encoded data removed]",
      "text/plain": [
       "<Figure size 432x288 with 1 Axes>"
      ]
     },
     "metadata": {
      "needs_background": "light"
     },
     "output_type": "display_data"
    }
   ],
   "source": [
    "plt.scatter(x_train,y_train)\n",
    "plt.scatter(x_test,y_test)\n",
    "plt.plot(x_train,regr.predict(x_train),c='r')"
   ]
  },
  {
   "cell_type": "code",
   "execution_count": null,
   "metadata": {},
   "outputs": [],
   "source": []
  }
 ],
 "metadata": {
  "kernelspec": {
   "display_name": "Python 3",
   "language": "python",
   "name": "python3"
  },
  "language_info": {
   "codemirror_mode": {
    "name": "ipython",
    "version": 3
   },
   "file_extension": ".py",
   "mimetype": "text/x-python",
   "name": "python",
   "nbconvert_exporter": "python",
   "pygments_lexer": "ipython3",
   "version": "3.6.8"
  }
 },
 "nbformat": 4,
 "nbformat_minor": 2
}
