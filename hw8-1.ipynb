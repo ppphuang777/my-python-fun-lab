{
 "cells": [
  {
   "cell_type": "code",
   "execution_count": 1,
   "metadata": {},
   "outputs": [
    {
     "name": "stdout",
     "output_type": "stream",
     "text": [
      "env: KERAS_BACKEND=tensorflow\n"
     ]
    }
   ],
   "source": [
    "%env KERAS_BACKEND=tensorflow"
   ]
  },
  {
   "cell_type": "code",
   "execution_count": 2,
   "metadata": {},
   "outputs": [],
   "source": [
    "%matplotlib inline\n",
    "import matplotlib.pyplot as plt\n",
    "import numpy as np\n",
    "import pandas as pd\n",
    "\n",
    "from ipywidgets import interact, IntSlider, Button"
   ]
  },
  {
   "cell_type": "code",
   "execution_count": 3,
   "metadata": {},
   "outputs": [
    {
     "name": "stderr",
     "output_type": "stream",
     "text": [
      "Using TensorFlow backend.\n"
     ]
    }
   ],
   "source": [
    "from keras.models import Sequential\n",
    "from keras.layers import Dense, Activation\n",
    "from keras.optimizers import SGD\n",
    "\n",
    "\n",
    "from keras.datasets import mnist\n",
    "\n",
    "\n",
    "from keras.utils import np_utils"
   ]
  },
  {
   "cell_type": "code",
   "execution_count": 4,
   "metadata": {},
   "outputs": [],
   "source": [
    "(x_train0, y_train0), (x_test0, y_test0) = mnist.load_data()"
   ]
  },
  {
   "cell_type": "code",
   "execution_count": 5,
   "metadata": {},
   "outputs": [
    {
     "name": "stdout",
     "output_type": "stream",
     "text": [
      "There are 60000 training data with size 28 x 28\n",
      "There are 10000 testing  data with size 28 x 28\n"
     ]
    }
   ],
   "source": [
    "print(\"There are %d training data with size %d x %d\" %x_train0.shape)\n",
    "print(\"There are %d testing  data with size %d x %d\" %x_test0.shape)"
   ]
  },
  {
   "cell_type": "code",
   "execution_count": 6,
   "metadata": {},
   "outputs": [],
   "source": [
    "x_train = x_train0.reshape(60000, 784)\n",
    "x_test = x_test0.reshape(10000, 784)"
   ]
  },
  {
   "cell_type": "code",
   "execution_count": 7,
   "metadata": {},
   "outputs": [],
   "source": [
    "x_train -= x_train.min()\n",
    "x_train = x_train/x_train.max()"
   ]
  },
  {
   "cell_type": "code",
   "execution_count": 8,
   "metadata": {},
   "outputs": [
    {
     "data": {
      "text/plain": [
       "(0.0, 1.0)"
      ]
     },
     "execution_count": 8,
     "metadata": {},
     "output_type": "execute_result"
    }
   ],
   "source": [
    "x_train.min(), x_train.max()"
   ]
  },
  {
   "cell_type": "code",
   "execution_count": 9,
   "metadata": {},
   "outputs": [],
   "source": [
    "y_train = np_utils.to_categorical(y_train0, 10)\n",
    "y_test = np_utils.to_categorical(y_test0, 10)"
   ]
  },
  {
   "cell_type": "code",
   "execution_count": 12,
   "metadata": {},
   "outputs": [],
   "source": [
    "from keras.models import Model\n",
    "from keras.layers import Input\n",
    "from keras.layers import concatenate"
   ]
  },
  {
   "cell_type": "code",
   "execution_count": 13,
   "metadata": {},
   "outputs": [],
   "source": [
    "f_1 = Dense(500, activation='sigmoid')\n",
    "f_2 = Dense(500, activation='sigmoid')\n",
    "f_4 = Dense(500, activation='relu')\n",
    "f_3 = Dense(10, activation='softmax')\n"
   ]
  },
  {
   "cell_type": "code",
   "execution_count": 14,
   "metadata": {},
   "outputs": [],
   "source": [
    "x = Input(shape=(784,))"
   ]
  },
  {
   "cell_type": "code",
   "execution_count": 15,
   "metadata": {},
   "outputs": [],
   "source": [
    "h_1=f_1(x)\n",
    "h_2=f_2(h_1)\n",
    "z = f_4(h_1)"
   ]
  },
  {
   "cell_type": "code",
   "execution_count": 16,
   "metadata": {},
   "outputs": [],
   "source": [
    "u = concatenate([h_2, z])\n",
    "y = f_3(u)"
   ]
  },
  {
   "cell_type": "code",
   "execution_count": 17,
   "metadata": {},
   "outputs": [
    {
     "name": "stdout",
     "output_type": "stream",
     "text": [
      "__________________________________________________________________________________________________\n",
      "Layer (type)                    Output Shape         Param #     Connected to                     \n",
      "==================================================================================================\n",
      "input_1 (InputLayer)            (None, 784)          0                                            \n",
      "__________________________________________________________________________________________________\n",
      "dense_4 (Dense)                 (None, 500)          392500      input_1[0][0]                    \n",
      "__________________________________________________________________________________________________\n",
      "dense_5 (Dense)                 (None, 500)          250500      dense_4[0][0]                    \n",
      "__________________________________________________________________________________________________\n",
      "dense_6 (Dense)                 (None, 500)          250500      dense_4[0][0]                    \n",
      "__________________________________________________________________________________________________\n",
      "concatenate_1 (Concatenate)     (None, 1000)         0           dense_5[0][0]                    \n",
      "                                                                 dense_6[0][0]                    \n",
      "__________________________________________________________________________________________________\n",
      "dense_7 (Dense)                 (None, 10)           10010       concatenate_1[0][0]              \n",
      "==================================================================================================\n",
      "Total params: 903,510\n",
      "Trainable params: 903,510\n",
      "Non-trainable params: 0\n",
      "__________________________________________________________________________________________________\n"
     ]
    }
   ],
   "source": [
    "model = Model(x, y)\n",
    "model.summary()"
   ]
  },
  {
   "cell_type": "code",
   "execution_count": 18,
   "metadata": {},
   "outputs": [],
   "source": [
    "model.compile(loss='mse',optimizer=SGD(lr=0.087),metrics=['accuracy'])"
   ]
  },
  {
   "cell_type": "code",
   "execution_count": 19,
   "metadata": {},
   "outputs": [
    {
     "name": "stdout",
     "output_type": "stream",
     "text": [
      "WARNING:tensorflow:From C:\\Users\\黃柏倫\\AppData\\Roaming\\Python\\Python36\\site-packages\\tensorflow\\python\\ops\\math_ops.py:3066: to_int32 (from tensorflow.python.ops.math_ops) is deprecated and will be removed in a future version.\n",
      "Instructions for updating:\n",
      "Use tf.cast instead.\n",
      "Epoch 1/20\n",
      "60000/60000 [==============================] - 12s 200us/step - loss: 0.0889 - acc: 0.22540s - loss: 0\n",
      "Epoch 2/20\n",
      "60000/60000 [==============================] - 11s 192us/step - loss: 0.0864 - acc: 0.35570s - loss: 0.0864 - acc: 0\n",
      "Epoch 3/20\n",
      "60000/60000 [==============================] - 11s 188us/step - loss: 0.0822 - acc: 0.3880\n",
      "Epoch 4/20\n",
      "60000/60000 [==============================] - 11s 177us/step - loss: 0.0748 - acc: 0.4764\n",
      "Epoch 5/20\n",
      "60000/60000 [==============================] - 10s 173us/step - loss: 0.0653 - acc: 0.6014\n",
      "Epoch 6/20\n",
      "60000/60000 [==============================] - 10s 172us/step - loss: 0.0553 - acc: 0.6858\n",
      "Epoch 7/20\n",
      "60000/60000 [==============================] - 10s 174us/step - loss: 0.0460 - acc: 0.7468\n",
      "Epoch 8/20\n",
      "60000/60000 [==============================] - 12s 198us/step - loss: 0.0386 - acc: 0.7979\n",
      "Epoch 9/20\n",
      "60000/60000 [==============================] - 12s 207us/step - loss: 0.0331 - acc: 0.8299\n",
      "Epoch 10/20\n",
      "60000/60000 [==============================] - 12s 205us/step - loss: 0.0290 - acc: 0.8468\n",
      "Epoch 11/20\n",
      "60000/60000 [==============================] - 13s 212us/step - loss: 0.0260 - acc: 0.8573\n",
      "Epoch 12/20\n",
      "60000/60000 [==============================] - 14s 235us/step - loss: 0.0239 - acc: 0.8661\n",
      "Epoch 13/20\n",
      "60000/60000 [==============================] - 14s 232us/step - loss: 0.0223 - acc: 0.8728\n",
      "Epoch 14/20\n",
      "60000/60000 [==============================] - 15s 250us/step - loss: 0.0210 - acc: 0.8770\n",
      "Epoch 15/20\n",
      "60000/60000 [==============================] - 15s 243us/step - loss: 0.0200 - acc: 0.8811\n",
      "Epoch 16/20\n",
      "60000/60000 [==============================] - 15s 246us/step - loss: 0.0192 - acc: 0.88471s - loss\n",
      "Epoch 17/20\n",
      "60000/60000 [==============================] - 14s 238us/step - loss: 0.0186 - acc: 0.8865\n",
      "Epoch 18/20\n",
      "60000/60000 [==============================] - 15s 256us/step - loss: 0.0180 - acc: 0.8896\n",
      "Epoch 19/20\n",
      "60000/60000 [==============================] - 16s 264us/step - loss: 0.0176 - acc: 0.89171s - loss: 0.0\n",
      "Epoch 20/20\n",
      "60000/60000 [==============================] - 16s 268us/step - loss: 0.0171 - acc: 0.8935\n"
     ]
    },
    {
     "data": {
      "text/plain": [
       "<keras.callbacks.History at 0x233b47c3240>"
      ]
     },
     "execution_count": 19,
     "metadata": {},
     "output_type": "execute_result"
    }
   ],
   "source": [
    "model.fit(x_train,y_train,batch_size=100,epochs=20)"
   ]
  },
  {
   "cell_type": "code",
   "execution_count": 35,
   "metadata": {},
   "outputs": [
    {
     "name": "stdout",
     "output_type": "stream",
     "text": [
      "60000/60000 [==============================] - 8s 135us/step\n",
      "loss: 0.01688055501890679\n",
      "正確率 0.8949\n"
     ]
    }
   ],
   "source": [
    "score = model.evaluate(x_train, y_train)\n",
    "\n",
    "print('loss:', score[0])\n",
    "print('正確率', score[1])"
   ]
  }
 ],
 "metadata": {
  "kernelspec": {
   "display_name": "Python 3",
   "language": "python",
   "name": "python3"
  },
  "language_info": {
   "codemirror_mode": {
    "name": "ipython",
    "version": 3
   },
   "file_extension": ".py",
   "mimetype": "text/x-python",
   "name": "python",
   "nbconvert_exporter": "python",
   "pygments_lexer": "ipython3",
   "version": "3.6.8"
  }
 },
 "nbformat": 4,
 "nbformat_minor": 2
}
